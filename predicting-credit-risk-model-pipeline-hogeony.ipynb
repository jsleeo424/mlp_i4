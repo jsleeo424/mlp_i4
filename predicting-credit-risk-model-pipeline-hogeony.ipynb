{
 "cells": [
  {
   "cell_type": "code",
   "execution_count": 49,
   "metadata": {
    "colab": {
     "base_uri": "https://localhost:8080/"
    },
    "executionInfo": {
     "elapsed": 591,
     "status": "ok",
     "timestamp": 1650311937064,
     "user": {
      "displayName": "James Lee",
      "userId": "09893656045784390853"
     },
     "user_tz": 240
    },
    "id": "Hczwgkf6Iznk",
    "outputId": "bc00100c-2ce1-4430-eabf-88ab9cc71fef"
   },
   "outputs": [],
   "source": [
    "# from google.colab import drive\n",
    "# drive.mount('/content/drive')"
   ]
  },
  {
   "cell_type": "code",
   "execution_count": 1,
   "metadata": {
    "_cell_guid": "98e8c140-b331-4a2e-98a1-aa76dd1ae9c3",
    "_uuid": "ebb00fd08333f52902981f381d94492ec2819bfd",
    "executionInfo": {
     "elapsed": 105,
     "status": "ok",
     "timestamp": 1650313712971,
     "user": {
      "displayName": "James Lee",
      "userId": "09893656045784390853"
     },
     "user_tz": 240
    },
    "id": "9D3W-qRJIxYC"
   },
   "outputs": [],
   "source": [
    "#Load the librarys\n",
    "import pandas as pd #To work with dataset\n",
    "import numpy as np #Math library\n",
    "import seaborn as sns #Graph library that use matplot in background\n",
    "import matplotlib.pyplot as plt #to plot some parameters in seaborn\n",
    "\n",
    "#Importing the data\n",
    "df_credit = pd.read_csv(\"../german_credit_data.csv\",index_col=0)"
   ]
  },
  {
   "cell_type": "code",
   "execution_count": 2,
   "metadata": {
    "executionInfo": {
     "elapsed": 104,
     "status": "ok",
     "timestamp": 1650313713855,
     "user": {
      "displayName": "James Lee",
      "userId": "09893656045784390853"
     },
     "user_tz": 240
    },
    "id": "135wH0OEQ0jG"
   },
   "outputs": [],
   "source": [
    "interval = (18, 25, 35, 60, 120)\n",
    "cats = ['Student', 'Young', 'Adult', 'Senior']\n",
    "df_credit[\"Age_cat\"] = pd.cut(df_credit.Age, interval, labels=cats)"
   ]
  },
  {
   "cell_type": "code",
   "execution_count": 3,
   "metadata": {
    "_uuid": "bd8cedad464868cff47f03f01a83c902a4a60644",
    "executionInfo": {
     "elapsed": 105,
     "status": "ok",
     "timestamp": 1650313714821,
     "user": {
      "displayName": "James Lee",
      "userId": "09893656045784390853"
     },
     "user_tz": 240
    },
    "id": "6tVVFqW4IxYT"
   },
   "outputs": [],
   "source": [
    "df_credit['Saving accounts'] = df_credit['Saving accounts'].fillna('no_inf')\n",
    "df_credit['Checking account'] = df_credit['Checking account'].fillna('no_inf')\n",
    "\n",
    "#Purpose to Dummies Variable\n",
    "df_credit = df_credit.merge(pd.get_dummies(df_credit.Purpose, drop_first=True, prefix='Purpose'), left_index=True, right_index=True)\n",
    "#Sex feature in dummies\n",
    "df_credit = df_credit.merge(pd.get_dummies(df_credit.Sex, drop_first=True, prefix='Sex'), left_index=True, right_index=True)\n",
    "# Housing get dummies\n",
    "df_credit = df_credit.merge(pd.get_dummies(df_credit.Housing, drop_first=True, prefix='Housing'), left_index=True, right_index=True)\n",
    "# Housing get Saving Accounts\n",
    "df_credit = df_credit.merge(pd.get_dummies(df_credit[\"Saving accounts\"], drop_first=True, prefix='Savings'), left_index=True, right_index=True)\n",
    "# Housing get Risk\n",
    "df_credit = df_credit.merge(pd.get_dummies(df_credit.Risk, prefix='Risk'), left_index=True, right_index=True)\n",
    "# Housing get Checking Account\n",
    "df_credit = df_credit.merge(pd.get_dummies(df_credit[\"Checking account\"], drop_first=True, prefix='Check'), left_index=True, right_index=True)\n",
    "# Housing get Age categorical\n",
    "df_credit = df_credit.merge(pd.get_dummies(df_credit[\"Age_cat\"], drop_first=True, prefix='Age_cat'), left_index=True, right_index=True)"
   ]
  },
  {
   "cell_type": "code",
   "execution_count": 4,
   "metadata": {
    "executionInfo": {
     "elapsed": 111,
     "status": "ok",
     "timestamp": 1650313727621,
     "user": {
      "displayName": "James Lee",
      "userId": "09893656045784390853"
     },
     "user_tz": 240
    },
    "id": "vDd7MR0yWSBg"
   },
   "outputs": [],
   "source": [
    "del df_credit[\"Saving accounts\"]\n",
    "del df_credit[\"Checking account\"]\n",
    "del df_credit[\"Purpose\"]\n",
    "del df_credit[\"Sex\"]\n",
    "del df_credit[\"Housing\"]\n",
    "del df_credit[\"Age_cat\"]\n",
    "del df_credit[\"Risk\"]\n",
    "del df_credit['Risk_good']"
   ]
  },
  {
   "cell_type": "code",
   "execution_count": 6,
   "metadata": {},
   "outputs": [
    {
     "data": {
      "text/plain": [
       "0      1\n",
       "1      0\n",
       "2      1\n",
       "3      1\n",
       "4      1\n",
       "      ..\n",
       "995    0\n",
       "996    1\n",
       "997    1\n",
       "998    1\n",
       "999    1\n",
       "Name: Sex_male, Length: 1000, dtype: uint8"
      ]
     },
     "execution_count": 6,
     "metadata": {},
     "output_type": "execute_result"
    }
   ],
   "source": []
  },
  {
   "cell_type": "code",
   "execution_count": 54,
   "metadata": {
    "_cell_guid": "7d5906f7-bebd-49e1-a1a5-9db82ae75e16",
    "_uuid": "32b245afaf3c349eedddfe0c106b24eede56af60",
    "executionInfo": {
     "elapsed": 105,
     "status": "ok",
     "timestamp": 1650313730661,
     "user": {
      "displayName": "James Lee",
      "userId": "09893656045784390853"
     },
     "user_tz": 240
    },
    "id": "R5GNzfjoIxYU"
   },
   "outputs": [],
   "source": [
    "from sklearn.model_selection import train_test_split, KFold, cross_val_score # to split the data\n",
    "from sklearn.metrics import accuracy_score, confusion_matrix, classification_report, fbeta_score #To evaluate our model\n",
    "\n",
    "from sklearn.model_selection import GridSearchCV\n",
    "\n",
    "# Algorithmns models to be compared\n",
    "from sklearn.ensemble import RandomForestClassifier\n",
    "from sklearn.linear_model import LogisticRegression\n",
    "from sklearn.tree import DecisionTreeClassifier\n",
    "from sklearn.neighbors import KNeighborsClassifier\n",
    "from sklearn.ensemble import RandomForestClassifier\n",
    "from sklearn.discriminant_analysis import LinearDiscriminantAnalysis\n",
    "from sklearn.naive_bayes import GaussianNB\n",
    "from sklearn.svm import SVC\n",
    "from xgboost import XGBClassifier\n"
   ]
  },
  {
   "cell_type": "code",
   "execution_count": 55,
   "metadata": {
    "_uuid": "34718c735d0ddbd8ad676e34cba8950755998809",
    "executionInfo": {
     "elapsed": 100,
     "status": "ok",
     "timestamp": 1650313732831,
     "user": {
      "displayName": "James Lee",
      "userId": "09893656045784390853"
     },
     "user_tz": 240
    },
    "id": "fbA0aDafIxYU"
   },
   "outputs": [],
   "source": [
    "df_credit['Credit amount'] = np.log(df_credit['Credit amount'])"
   ]
  },
  {
   "cell_type": "code",
   "execution_count": 56,
   "metadata": {
    "_cell_guid": "be683db1-dc4f-49f3-86fa-e17eb90c3aef",
    "_uuid": "b0eb1cac1b343143c7ff5ccff82931768167c2de",
    "colab": {
     "base_uri": "https://localhost:8080/"
    },
    "executionInfo": {
     "elapsed": 138,
     "status": "ok",
     "timestamp": 1650313733699,
     "user": {
      "displayName": "James Lee",
      "userId": "09893656045784390853"
     },
     "user_tz": 240
    },
    "id": "EQqVwnVkIxYU",
    "outputId": "92a6807b-3617-4194-c27b-d3c4c2f92f45"
   },
   "outputs": [
    {
     "name": "stdout",
     "output_type": "stream",
     "text": [
      "(1000, 24)\n",
      "(1000,)\n"
     ]
    },
    {
     "name": "stderr",
     "output_type": "stream",
     "text": [
      "C:\\Users\\yuhog\\AppData\\Local\\Temp/ipykernel_16848/653356461.py:2: FutureWarning: In a future version of pandas all arguments of DataFrame.drop except for the argument 'labels' will be keyword-only.\n",
      "  X = df_credit.drop('Risk_bad', 1).values\n"
     ]
    }
   ],
   "source": [
    "#Creating the X and y variables\n",
    "X = df_credit.drop('Risk_bad', 1).values\n",
    "y = df_credit[\"Risk_bad\"].values\n",
    "print(X.shape)\n",
    "print(y.shape)\n",
    "\n",
    "# Spliting X and y into train and test version\n",
    "X_train, X_test, y_train, y_test = train_test_split(X, y, test_size = 0.25, random_state=42)"
   ]
  },
  {
   "cell_type": "code",
   "execution_count": 68,
   "metadata": {},
   "outputs": [
    {
     "ename": "KeyError",
     "evalue": "'sex'",
     "output_type": "error",
     "traceback": [
      "\u001b[1;31m---------------------------------------------------------------------------\u001b[0m",
      "\u001b[1;31mKeyError\u001b[0m                                  Traceback (most recent call last)",
      "\u001b[1;32m~\\Anaconda3\\envs\\CMU\\lib\\site-packages\\pandas\\core\\indexes\\base.py\u001b[0m in \u001b[0;36mget_loc\u001b[1;34m(self, key, method, tolerance)\u001b[0m\n\u001b[0;32m   3620\u001b[0m             \u001b[1;32mtry\u001b[0m\u001b[1;33m:\u001b[0m\u001b[1;33m\u001b[0m\u001b[1;33m\u001b[0m\u001b[0m\n\u001b[1;32m-> 3621\u001b[1;33m                 \u001b[1;32mreturn\u001b[0m \u001b[0mself\u001b[0m\u001b[1;33m.\u001b[0m\u001b[0m_engine\u001b[0m\u001b[1;33m.\u001b[0m\u001b[0mget_loc\u001b[0m\u001b[1;33m(\u001b[0m\u001b[0mcasted_key\u001b[0m\u001b[1;33m)\u001b[0m\u001b[1;33m\u001b[0m\u001b[1;33m\u001b[0m\u001b[0m\n\u001b[0m\u001b[0;32m   3622\u001b[0m             \u001b[1;32mexcept\u001b[0m \u001b[0mKeyError\u001b[0m \u001b[1;32mas\u001b[0m \u001b[0merr\u001b[0m\u001b[1;33m:\u001b[0m\u001b[1;33m\u001b[0m\u001b[1;33m\u001b[0m\u001b[0m\n",
      "\u001b[1;32m~\\Anaconda3\\envs\\CMU\\lib\\site-packages\\pandas\\_libs\\index.pyx\u001b[0m in \u001b[0;36mpandas._libs.index.IndexEngine.get_loc\u001b[1;34m()\u001b[0m\n",
      "\u001b[1;32m~\\Anaconda3\\envs\\CMU\\lib\\site-packages\\pandas\\_libs\\index.pyx\u001b[0m in \u001b[0;36mpandas._libs.index.IndexEngine.get_loc\u001b[1;34m()\u001b[0m\n",
      "\u001b[1;32mpandas\\_libs\\hashtable_class_helper.pxi\u001b[0m in \u001b[0;36mpandas._libs.hashtable.PyObjectHashTable.get_item\u001b[1;34m()\u001b[0m\n",
      "\u001b[1;32mpandas\\_libs\\hashtable_class_helper.pxi\u001b[0m in \u001b[0;36mpandas._libs.hashtable.PyObjectHashTable.get_item\u001b[1;34m()\u001b[0m\n",
      "\u001b[1;31mKeyError\u001b[0m: 'sex'",
      "\nThe above exception was the direct cause of the following exception:\n",
      "\u001b[1;31mKeyError\u001b[0m                                  Traceback (most recent call last)",
      "\u001b[1;32m~\\AppData\\Local\\Temp/ipykernel_16848/2391404719.py\u001b[0m in \u001b[0;36m<module>\u001b[1;34m\u001b[0m\n\u001b[1;32m----> 1\u001b[1;33m \u001b[0mdf_credit\u001b[0m\u001b[1;33m[\u001b[0m\u001b[1;34m'sex'\u001b[0m\u001b[1;33m]\u001b[0m\u001b[1;33m\u001b[0m\u001b[1;33m\u001b[0m\u001b[0m\n\u001b[0m",
      "\u001b[1;32m~\\Anaconda3\\envs\\CMU\\lib\\site-packages\\pandas\\core\\frame.py\u001b[0m in \u001b[0;36m__getitem__\u001b[1;34m(self, key)\u001b[0m\n\u001b[0;32m   3504\u001b[0m             \u001b[1;32mif\u001b[0m \u001b[0mself\u001b[0m\u001b[1;33m.\u001b[0m\u001b[0mcolumns\u001b[0m\u001b[1;33m.\u001b[0m\u001b[0mnlevels\u001b[0m \u001b[1;33m>\u001b[0m \u001b[1;36m1\u001b[0m\u001b[1;33m:\u001b[0m\u001b[1;33m\u001b[0m\u001b[1;33m\u001b[0m\u001b[0m\n\u001b[0;32m   3505\u001b[0m                 \u001b[1;32mreturn\u001b[0m \u001b[0mself\u001b[0m\u001b[1;33m.\u001b[0m\u001b[0m_getitem_multilevel\u001b[0m\u001b[1;33m(\u001b[0m\u001b[0mkey\u001b[0m\u001b[1;33m)\u001b[0m\u001b[1;33m\u001b[0m\u001b[1;33m\u001b[0m\u001b[0m\n\u001b[1;32m-> 3506\u001b[1;33m             \u001b[0mindexer\u001b[0m \u001b[1;33m=\u001b[0m \u001b[0mself\u001b[0m\u001b[1;33m.\u001b[0m\u001b[0mcolumns\u001b[0m\u001b[1;33m.\u001b[0m\u001b[0mget_loc\u001b[0m\u001b[1;33m(\u001b[0m\u001b[0mkey\u001b[0m\u001b[1;33m)\u001b[0m\u001b[1;33m\u001b[0m\u001b[1;33m\u001b[0m\u001b[0m\n\u001b[0m\u001b[0;32m   3507\u001b[0m             \u001b[1;32mif\u001b[0m \u001b[0mis_integer\u001b[0m\u001b[1;33m(\u001b[0m\u001b[0mindexer\u001b[0m\u001b[1;33m)\u001b[0m\u001b[1;33m:\u001b[0m\u001b[1;33m\u001b[0m\u001b[1;33m\u001b[0m\u001b[0m\n\u001b[0;32m   3508\u001b[0m                 \u001b[0mindexer\u001b[0m \u001b[1;33m=\u001b[0m \u001b[1;33m[\u001b[0m\u001b[0mindexer\u001b[0m\u001b[1;33m]\u001b[0m\u001b[1;33m\u001b[0m\u001b[1;33m\u001b[0m\u001b[0m\n",
      "\u001b[1;32m~\\Anaconda3\\envs\\CMU\\lib\\site-packages\\pandas\\core\\indexes\\base.py\u001b[0m in \u001b[0;36mget_loc\u001b[1;34m(self, key, method, tolerance)\u001b[0m\n\u001b[0;32m   3621\u001b[0m                 \u001b[1;32mreturn\u001b[0m \u001b[0mself\u001b[0m\u001b[1;33m.\u001b[0m\u001b[0m_engine\u001b[0m\u001b[1;33m.\u001b[0m\u001b[0mget_loc\u001b[0m\u001b[1;33m(\u001b[0m\u001b[0mcasted_key\u001b[0m\u001b[1;33m)\u001b[0m\u001b[1;33m\u001b[0m\u001b[1;33m\u001b[0m\u001b[0m\n\u001b[0;32m   3622\u001b[0m             \u001b[1;32mexcept\u001b[0m \u001b[0mKeyError\u001b[0m \u001b[1;32mas\u001b[0m \u001b[0merr\u001b[0m\u001b[1;33m:\u001b[0m\u001b[1;33m\u001b[0m\u001b[1;33m\u001b[0m\u001b[0m\n\u001b[1;32m-> 3623\u001b[1;33m                 \u001b[1;32mraise\u001b[0m \u001b[0mKeyError\u001b[0m\u001b[1;33m(\u001b[0m\u001b[0mkey\u001b[0m\u001b[1;33m)\u001b[0m \u001b[1;32mfrom\u001b[0m \u001b[0merr\u001b[0m\u001b[1;33m\u001b[0m\u001b[1;33m\u001b[0m\u001b[0m\n\u001b[0m\u001b[0;32m   3624\u001b[0m             \u001b[1;32mexcept\u001b[0m \u001b[0mTypeError\u001b[0m\u001b[1;33m:\u001b[0m\u001b[1;33m\u001b[0m\u001b[1;33m\u001b[0m\u001b[0m\n\u001b[0;32m   3625\u001b[0m                 \u001b[1;31m# If we have a listlike key, _check_indexing_error will raise\u001b[0m\u001b[1;33m\u001b[0m\u001b[1;33m\u001b[0m\u001b[0m\n",
      "\u001b[1;31mKeyError\u001b[0m: 'sex'"
     ]
    }
   ],
   "source": []
  },
  {
   "cell_type": "code",
   "execution_count": 57,
   "metadata": {
    "_uuid": "18d0c87ea7bfdbec2cb86e5517a026f3f0657570",
    "colab": {
     "base_uri": "https://localhost:8080/",
     "height": 1000
    },
    "executionInfo": {
     "elapsed": 4251,
     "status": "ok",
     "timestamp": 1650313739802,
     "user": {
      "displayName": "James Lee",
      "userId": "09893656045784390853"
     },
     "user_tz": 240
    },
    "id": "gNPwYjedIxYU",
    "outputId": "d114dd6a-3a08-4b31-c440-19bcc9c9bb01"
   },
   "outputs": [
    {
     "name": "stderr",
     "output_type": "stream",
     "text": [
      "C:\\Users\\yuhog\\Anaconda3\\envs\\CMU\\lib\\site-packages\\sklearn\\linear_model\\_logistic.py:814: ConvergenceWarning: lbfgs failed to converge (status=1):\n",
      "STOP: TOTAL NO. of ITERATIONS REACHED LIMIT.\n",
      "\n",
      "Increase the number of iterations (max_iter) or scale the data as shown in:\n",
      "    https://scikit-learn.org/stable/modules/preprocessing.html\n",
      "Please also refer to the documentation for alternative solver options:\n",
      "    https://scikit-learn.org/stable/modules/linear_model.html#logistic-regression\n",
      "  n_iter_i = _check_optimize_result(\n",
      "C:\\Users\\yuhog\\Anaconda3\\envs\\CMU\\lib\\site-packages\\sklearn\\linear_model\\_logistic.py:814: ConvergenceWarning: lbfgs failed to converge (status=1):\n",
      "STOP: TOTAL NO. of ITERATIONS REACHED LIMIT.\n",
      "\n",
      "Increase the number of iterations (max_iter) or scale the data as shown in:\n",
      "    https://scikit-learn.org/stable/modules/preprocessing.html\n",
      "Please also refer to the documentation for alternative solver options:\n",
      "    https://scikit-learn.org/stable/modules/linear_model.html#logistic-regression\n",
      "  n_iter_i = _check_optimize_result(\n",
      "C:\\Users\\yuhog\\Anaconda3\\envs\\CMU\\lib\\site-packages\\sklearn\\linear_model\\_logistic.py:814: ConvergenceWarning: lbfgs failed to converge (status=1):\n",
      "STOP: TOTAL NO. of ITERATIONS REACHED LIMIT.\n",
      "\n",
      "Increase the number of iterations (max_iter) or scale the data as shown in:\n",
      "    https://scikit-learn.org/stable/modules/preprocessing.html\n",
      "Please also refer to the documentation for alternative solver options:\n",
      "    https://scikit-learn.org/stable/modules/linear_model.html#logistic-regression\n",
      "  n_iter_i = _check_optimize_result(\n",
      "C:\\Users\\yuhog\\Anaconda3\\envs\\CMU\\lib\\site-packages\\sklearn\\linear_model\\_logistic.py:814: ConvergenceWarning: lbfgs failed to converge (status=1):\n",
      "STOP: TOTAL NO. of ITERATIONS REACHED LIMIT.\n",
      "\n",
      "Increase the number of iterations (max_iter) or scale the data as shown in:\n",
      "    https://scikit-learn.org/stable/modules/preprocessing.html\n",
      "Please also refer to the documentation for alternative solver options:\n",
      "    https://scikit-learn.org/stable/modules/linear_model.html#logistic-regression\n",
      "  n_iter_i = _check_optimize_result(\n",
      "C:\\Users\\yuhog\\Anaconda3\\envs\\CMU\\lib\\site-packages\\sklearn\\linear_model\\_logistic.py:814: ConvergenceWarning: lbfgs failed to converge (status=1):\n",
      "STOP: TOTAL NO. of ITERATIONS REACHED LIMIT.\n",
      "\n",
      "Increase the number of iterations (max_iter) or scale the data as shown in:\n",
      "    https://scikit-learn.org/stable/modules/preprocessing.html\n",
      "Please also refer to the documentation for alternative solver options:\n",
      "    https://scikit-learn.org/stable/modules/linear_model.html#logistic-regression\n",
      "  n_iter_i = _check_optimize_result(\n",
      "C:\\Users\\yuhog\\Anaconda3\\envs\\CMU\\lib\\site-packages\\sklearn\\linear_model\\_logistic.py:814: ConvergenceWarning: lbfgs failed to converge (status=1):\n",
      "STOP: TOTAL NO. of ITERATIONS REACHED LIMIT.\n",
      "\n",
      "Increase the number of iterations (max_iter) or scale the data as shown in:\n",
      "    https://scikit-learn.org/stable/modules/preprocessing.html\n",
      "Please also refer to the documentation for alternative solver options:\n",
      "    https://scikit-learn.org/stable/modules/linear_model.html#logistic-regression\n",
      "  n_iter_i = _check_optimize_result(\n",
      "C:\\Users\\yuhog\\Anaconda3\\envs\\CMU\\lib\\site-packages\\sklearn\\linear_model\\_logistic.py:814: ConvergenceWarning: lbfgs failed to converge (status=1):\n",
      "STOP: TOTAL NO. of ITERATIONS REACHED LIMIT.\n",
      "\n",
      "Increase the number of iterations (max_iter) or scale the data as shown in:\n",
      "    https://scikit-learn.org/stable/modules/preprocessing.html\n",
      "Please also refer to the documentation for alternative solver options:\n",
      "    https://scikit-learn.org/stable/modules/linear_model.html#logistic-regression\n",
      "  n_iter_i = _check_optimize_result(\n",
      "C:\\Users\\yuhog\\Anaconda3\\envs\\CMU\\lib\\site-packages\\sklearn\\linear_model\\_logistic.py:814: ConvergenceWarning: lbfgs failed to converge (status=1):\n",
      "STOP: TOTAL NO. of ITERATIONS REACHED LIMIT.\n",
      "\n",
      "Increase the number of iterations (max_iter) or scale the data as shown in:\n",
      "    https://scikit-learn.org/stable/modules/preprocessing.html\n",
      "Please also refer to the documentation for alternative solver options:\n",
      "    https://scikit-learn.org/stable/modules/linear_model.html#logistic-regression\n",
      "  n_iter_i = _check_optimize_result(\n",
      "C:\\Users\\yuhog\\Anaconda3\\envs\\CMU\\lib\\site-packages\\sklearn\\linear_model\\_logistic.py:814: ConvergenceWarning: lbfgs failed to converge (status=1):\n",
      "STOP: TOTAL NO. of ITERATIONS REACHED LIMIT.\n",
      "\n",
      "Increase the number of iterations (max_iter) or scale the data as shown in:\n",
      "    https://scikit-learn.org/stable/modules/preprocessing.html\n",
      "Please also refer to the documentation for alternative solver options:\n",
      "    https://scikit-learn.org/stable/modules/linear_model.html#logistic-regression\n",
      "  n_iter_i = _check_optimize_result(\n",
      "C:\\Users\\yuhog\\Anaconda3\\envs\\CMU\\lib\\site-packages\\sklearn\\linear_model\\_logistic.py:814: ConvergenceWarning: lbfgs failed to converge (status=1):\n",
      "STOP: TOTAL NO. of ITERATIONS REACHED LIMIT.\n",
      "\n",
      "Increase the number of iterations (max_iter) or scale the data as shown in:\n",
      "    https://scikit-learn.org/stable/modules/preprocessing.html\n",
      "Please also refer to the documentation for alternative solver options:\n",
      "    https://scikit-learn.org/stable/modules/linear_model.html#logistic-regression\n",
      "  n_iter_i = _check_optimize_result(\n"
     ]
    },
    {
     "name": "stdout",
     "output_type": "stream",
     "text": [
      "LR: 0.387574 (0.077970)\n",
      "LDA: 0.428815 (0.093162)\n",
      "KNN: 0.263130 (0.035560)\n",
      "CART: 0.541340 (0.094464)\n",
      "NB: 0.596300 (0.081365)\n",
      "RF: 0.361852 (0.065699)\n",
      "SVM: 0.182230 (0.088462)\n",
      "XGB: 0.471753 (0.132675)\n"
     ]
    },
    {
     "data": {
      "image/png": "[encoded data removed]",
      "text/plain": [
       "<Figure size 792x432 with 1 Axes>"
      ]
     },
     "metadata": {
      "needs_background": "light"
     },
     "output_type": "display_data"
    }
   ],
   "source": [
    "# to feed the random state\n",
    "seed = None\n",
    "\n",
    "# prepare models\n",
    "models = []\n",
    "models.append(('LR', LogisticRegression()))\n",
    "models.append(('LDA', LinearDiscriminantAnalysis()))\n",
    "models.append(('KNN', KNeighborsClassifier()))\n",
    "models.append(('CART', DecisionTreeClassifier()))\n",
    "models.append(('NB', GaussianNB()))\n",
    "models.append(('RF', RandomForestClassifier()))\n",
    "models.append(('SVM', SVC(gamma='auto')))\n",
    "models.append(('XGB', XGBClassifier()))\n",
    "\n",
    "# evaluate each model in turn\n",
    "results = []\n",
    "names = []\n",
    "scoring = 'recall'\n",
    "\n",
    "for name, model in models:\n",
    "        kfold = KFold(n_splits=10, random_state=seed)\n",
    "        cv_results = cross_val_score(model, X_train, y_train, cv=kfold, scoring=scoring)\n",
    "        results.append(cv_results)\n",
    "        names.append(name)\n",
    "        msg = \"%s: %f (%f)\" % (name, cv_results.mean(), cv_results.std())\n",
    "        print(msg)\n",
    "        \n",
    "# boxplot algorithm comparison\n",
    "fig = plt.figure(figsize=(11,6))\n",
    "fig.suptitle('Algorithm Comparison')\n",
    "ax = fig.add_subplot(111)\n",
    "plt.boxplot(results)\n",
    "ax.set_xticklabels(names)\n",
    "plt.show()"
   ]
  },
  {
   "cell_type": "markdown",
   "metadata": {
    "_cell_guid": "dc9dca9e-02a8-4fea-8265-eaf631ae39cd",
    "_uuid": "55565ef692e7418af62bbd6f23babd7994cd2fc2",
    "id": "Mk4aKyxNIxYU"
   },
   "source": [
    "# **7.1 Model 1 :** <a id=\"Modelling 1\"></a> <br>\n",
    "- Using Random Forest to predictict the credit score \n",
    "- Some of Validation Parameters"
   ]
  },
  {
   "cell_type": "code",
   "execution_count": 30,
   "metadata": {
    "_cell_guid": "700ab26d-2e82-4b1c-b575-1f5f5f7a2daf",
    "_kg_hide-output": true,
    "_uuid": "69d73aabd9ed02ca77fe5bd29ab943960f0c99ee",
    "colab": {
     "base_uri": "https://localhost:8080/"
    },
    "executionInfo": {
     "elapsed": 54325,
     "status": "ok",
     "timestamp": 1650311239555,
     "user": {
      "displayName": "James Lee",
      "userId": "09893656045784390853"
     },
     "user_tz": 240
    },
    "id": "2dCgmC1LIxYV",
    "outputId": "b985d751-92f0-4bf6-8a45-3734df8995ac",
    "scrolled": false
   },
   "outputs": [
    {
     "name": "stdout",
     "output_type": "stream",
     "text": [
      "Fitting 5 folds for each of 120 candidates, totalling 600 fits\n",
      "[CV 1/5] END max_depth=3, max_features=4, n_estimators=3;, score=0.022 total time=   0.0s\n",
      "[CV 2/5] END max_depth=3, max_features=4, n_estimators=3;, score=0.111 total time=   0.0s\n",
      "[CV 3/5] END max_depth=3, max_features=4, n_estimators=3;, score=0.065 total time=   0.0s\n",
      "[CV 4/5] END max_depth=3, max_features=4, n_estimators=3;, score=0.196 total time=   0.0s\n",
      "[CV 5/5] END max_depth=3, max_features=4, n_estimators=3;, score=0.087 total time=   0.0s\n",
      "[CV 1/5] END max_depth=3, max_features=4, n_estimators=5;, score=0.044 total time=   0.0s\n",
      "[CV 2/5] END max_depth=3, max_features=4, n_estimators=5;, score=0.178 total time=   0.0s\n",
      "[CV 3/5] END max_depth=3, max_features=4, n_estimators=5;, score=0.152 total time=   0.0s\n",
      "[CV 4/5] END max_depth=3, max_features=4, n_estimators=5;, score=0.174 total time=   0.0s\n",
      "[CV 5/5] END max_depth=3, max_features=4, n_estimators=5;, score=0.087 total time=   0.0s\n",
      "[CV 1/5] END max_depth=3, max_features=4, n_estimators=10;, score=0.044 total time=   0.0s\n",
      "[CV 2/5] END max_depth=3, max_features=4, n_estimators=10;, score=0.111 total time=   0.0s\n",
      "[CV 3/5] END max_depth=3, max_features=4, n_estimators=10;, score=0.043 total time=   0.0s\n",
      "[CV 4/5] END max_depth=3, max_features=4, n_estimators=10;, score=0.109 total time=   0.0s\n",
      "[CV 5/5] END max_depth=3, max_features=4, n_estimators=10;, score=0.043 total time=   0.0s\n",
      "[CV 1/5] END max_depth=3, max_features=4, n_estimators=25;, score=0.022 total time=   0.0s\n",
      "[CV 2/5] END max_depth=3, max_features=4, n_estimators=25;, score=0.067 total time=   0.0s\n",
      "[CV 3/5] END max_depth=3, max_features=4, n_estimators=25;, score=0.043 total time=   0.0s\n",
      "[CV 4/5] END max_depth=3, max_features=4, n_estimators=25;, score=0.022 total time=   0.0s\n",
      "[CV 5/5] END max_depth=3, max_features=4, n_estimators=25;, score=0.022 total time=   0.0s\n",
      "[CV 1/5] END max_depth=3, max_features=4, n_estimators=50;, score=0.022 total time=   0.0s\n",
      "[CV 2/5] END max_depth=3, max_features=4, n_estimators=50;, score=0.089 total time=   0.0s\n",
      "[CV 3/5] END max_depth=3, max_features=4, n_estimators=50;, score=0.065 total time=   0.0s\n",
      "[CV 4/5] END max_depth=3, max_features=4, n_estimators=50;, score=0.022 total time=   0.0s\n",
      "[CV 5/5] END max_depth=3, max_features=4, n_estimators=50;, score=0.000 total time=   0.0s\n",
      "[CV 1/5] END max_depth=3, max_features=4, n_estimators=150;, score=0.022 total time=   0.0s\n",
      "[CV 2/5] END max_depth=3, max_features=4, n_estimators=150;, score=0.111 total time=   0.0s\n",
      "[CV 3/5] END max_depth=3, max_features=4, n_estimators=150;, score=0.065 total time=   0.0s\n",
      "[CV 4/5] END max_depth=3, max_features=4, n_estimators=150;, score=0.022 total time=   0.0s\n",
      "[CV 5/5] END max_depth=3, max_features=4, n_estimators=150;, score=0.022 total time=   0.0s\n",
      "[CV 1/5] END max_depth=3, max_features=7, n_estimators=3;, score=0.133 total time=   0.0s\n",
      "[CV 2/5] END max_depth=3, max_features=7, n_estimators=3;, score=0.267 total time=   0.0s\n",
      "[CV 3/5] END max_depth=3, max_features=7, n_estimators=3;, score=0.109 total time=   0.0s\n",
      "[CV 4/5] END max_depth=3, max_features=7, n_estimators=3;, score=0.152 total time=   0.0s\n",
      "[CV 5/5] END max_depth=3, max_features=7, n_estimators=3;, score=0.109 total time=   0.0s\n",
      "[CV 1/5] END max_depth=3, max_features=7, n_estimators=5;, score=0.133 total time=   0.0s\n",
      "[CV 2/5] END max_depth=3, max_features=7, n_estimators=5;, score=0.244 total time=   0.0s\n",
      "[CV 3/5] END max_depth=3, max_features=7, n_estimators=5;, score=0.087 total time=   0.0s\n",
      "[CV 4/5] END max_depth=3, max_features=7, n_estimators=5;, score=0.109 total time=   0.0s\n",
      "[CV 5/5] END max_depth=3, max_features=7, n_estimators=5;, score=0.152 total time=   0.0s\n",
      "[CV 1/5] END max_depth=3, max_features=7, n_estimators=10;, score=0.067 total time=   0.0s\n",
      "[CV 2/5] END max_depth=3, max_features=7, n_estimators=10;, score=0.244 total time=   0.0s\n",
      "[CV 3/5] END max_depth=3, max_features=7, n_estimators=10;, score=0.152 total time=   0.0s\n",
      "[CV 4/5] END max_depth=3, max_features=7, n_estimators=10;, score=0.152 total time=   0.0s\n",
      "[CV 5/5] END max_depth=3, max_features=7, n_estimators=10;, score=0.087 total time=   0.0s\n",
      "[CV 1/5] END max_depth=3, max_features=7, n_estimators=25;, score=0.067 total time=   0.0s\n",
      "[CV 2/5] END max_depth=3, max_features=7, n_estimators=25;, score=0.267 total time=   0.0s\n",
      "[CV 3/5] END max_depth=3, max_features=7, n_estimators=25;, score=0.109 total time=   0.0s\n",
      "[CV 4/5] END max_depth=3, max_features=7, n_estimators=25;, score=0.152 total time=   0.0s\n",
      "[CV 5/5] END max_depth=3, max_features=7, n_estimators=25;, score=0.043 total time=   0.0s\n",
      "[CV 1/5] END max_depth=3, max_features=7, n_estimators=50;, score=0.067 total time=   0.0s\n",
      "[CV 2/5] END max_depth=3, max_features=7, n_estimators=50;, score=0.200 total time=   0.0s\n",
      "[CV 3/5] END max_depth=3, max_features=7, n_estimators=50;, score=0.109 total time=   0.0s\n",
      "[CV 4/5] END max_depth=3, max_features=7, n_estimators=50;, score=0.130 total time=   0.0s\n",
      "[CV 5/5] END max_depth=3, max_features=7, n_estimators=50;, score=0.065 total time=   0.0s\n",
      "[CV 1/5] END max_depth=3, max_features=7, n_estimators=150;, score=0.067 total time=   0.0s\n",
      "[CV 2/5] END max_depth=3, max_features=7, n_estimators=150;, score=0.178 total time=   0.0s\n",
      "[CV 3/5] END max_depth=3, max_features=7, n_estimators=150;, score=0.130 total time=   0.0s\n",
      "[CV 4/5] END max_depth=3, max_features=7, n_estimators=150;, score=0.130 total time=   0.0s\n",
      "[CV 5/5] END max_depth=3, max_features=7, n_estimators=150;, score=0.109 total time=   0.0s\n",
      "[CV 1/5] END max_depth=3, max_features=15, n_estimators=3;, score=0.089 total time=   0.0s\n",
      "[CV 2/5] END max_depth=3, max_features=15, n_estimators=3;, score=0.422 total time=   0.0s\n",
      "[CV 3/5] END max_depth=3, max_features=15, n_estimators=3;, score=0.283 total time=   0.0s\n",
      "[CV 4/5] END max_depth=3, max_features=15, n_estimators=3;, score=0.239 total time=   0.0s\n",
      "[CV 5/5] END max_depth=3, max_features=15, n_estimators=3;, score=0.261 total time=   0.0s\n",
      "[CV 1/5] END max_depth=3, max_features=15, n_estimators=5;, score=0.089 total time=   0.0s\n",
      "[CV 2/5] END max_depth=3, max_features=15, n_estimators=5;, score=0.422 total time=   0.0s\n",
      "[CV 3/5] END max_depth=3, max_features=15, n_estimators=5;, score=0.196 total time=   0.0s\n",
      "[CV 4/5] END max_depth=3, max_features=15, n_estimators=5;, score=0.152 total time=   0.0s\n",
      "[CV 5/5] END max_depth=3, max_features=15, n_estimators=5;, score=0.239 total time=   0.0s\n",
      "[CV 1/5] END max_depth=3, max_features=15, n_estimators=10;, score=0.111 total time=   0.0s\n",
      "[CV 2/5] END max_depth=3, max_features=15, n_estimators=10;, score=0.289 total time=   0.0s\n",
      "[CV 3/5] END max_depth=3, max_features=15, n_estimators=10;, score=0.217 total time=   0.0s\n",
      "[CV 4/5] END max_depth=3, max_features=15, n_estimators=10;, score=0.109 total time=   0.0s\n",
      "[CV 5/5] END max_depth=3, max_features=15, n_estimators=10;, score=0.261 total time=   0.0s\n",
      "[CV 1/5] END max_depth=3, max_features=15, n_estimators=25;, score=0.178 total time=   0.0s\n",
      "[CV 2/5] END max_depth=3, max_features=15, n_estimators=25;, score=0.311 total time=   0.0s\n",
      "[CV 3/5] END max_depth=3, max_features=15, n_estimators=25;, score=0.196 total time=   0.0s\n",
      "[CV 4/5] END max_depth=3, max_features=15, n_estimators=25;, score=0.217 total time=   0.0s\n",
      "[CV 5/5] END max_depth=3, max_features=15, n_estimators=25;, score=0.283 total time=   0.0s\n",
      "[CV 1/5] END max_depth=3, max_features=15, n_estimators=50;, score=0.200 total time=   0.0s\n",
      "[CV 2/5] END max_depth=3, max_features=15, n_estimators=50;, score=0.289 total time=   0.0s\n",
      "[CV 3/5] END max_depth=3, max_features=15, n_estimators=50;, score=0.217 total time=   0.0s\n",
      "[CV 4/5] END max_depth=3, max_features=15, n_estimators=50;, score=0.217 total time=   0.0s\n",
      "[CV 5/5] END max_depth=3, max_features=15, n_estimators=50;, score=0.283 total time=   0.0s\n",
      "[CV 1/5] END max_depth=3, max_features=15, n_estimators=150;, score=0.178 total time=   0.0s\n",
      "[CV 2/5] END max_depth=3, max_features=15, n_estimators=150;, score=0.289 total time=   0.0s\n",
      "[CV 3/5] END max_depth=3, max_features=15, n_estimators=150;, score=0.217 total time=   0.0s\n",
      "[CV 4/5] END max_depth=3, max_features=15, n_estimators=150;, score=0.196 total time=   0.0s\n",
      "[CV 5/5] END max_depth=3, max_features=15, n_estimators=150;, score=0.283 total time=   0.0s\n",
      "[CV 1/5] END max_depth=3, max_features=20, n_estimators=3;, score=0.222 total time=   0.0s\n",
      "[CV 2/5] END max_depth=3, max_features=20, n_estimators=3;, score=0.356 total time=   0.0s\n",
      "[CV 3/5] END max_depth=3, max_features=20, n_estimators=3;, score=0.348 total time=   0.0s\n",
      "[CV 4/5] END max_depth=3, max_features=20, n_estimators=3;, score=0.174 total time=   0.0s\n",
      "[CV 5/5] END max_depth=3, max_features=20, n_estimators=3;, score=0.304 total time=   0.0s\n",
      "[CV 1/5] END max_depth=3, max_features=20, n_estimators=5;, score=0.133 total time=   0.0s\n",
      "[CV 2/5] END max_depth=3, max_features=20, n_estimators=5;, score=0.444 total time=   0.0s\n",
      "[CV 3/5] END max_depth=3, max_features=20, n_estimators=5;, score=0.196 total time=   0.0s\n",
      "[CV 4/5] END max_depth=3, max_features=20, n_estimators=5;, score=0.196 total time=   0.0s\n",
      "[CV 5/5] END max_depth=3, max_features=20, n_estimators=5;, score=0.304 total time=   0.0s\n",
      "[CV 1/5] END max_depth=3, max_features=20, n_estimators=10;, score=0.178 total time=   0.0s\n",
      "[CV 2/5] END max_depth=3, max_features=20, n_estimators=10;, score=0.356 total time=   0.0s\n",
      "[CV 3/5] END max_depth=3, max_features=20, n_estimators=10;, score=0.196 total time=   0.0s\n",
      "[CV 4/5] END max_depth=3, max_features=20, n_estimators=10;, score=0.130 total time=   0.0s\n",
      "[CV 5/5] END max_depth=3, max_features=20, n_estimators=10;, score=0.217 total time=   0.0s\n",
      "[CV 1/5] END max_depth=3, max_features=20, n_estimators=25;, score=0.156 total time=   0.0s\n",
      "[CV 2/5] END max_depth=3, max_features=20, n_estimators=25;, score=0.289 total time=   0.0s\n",
      "[CV 3/5] END max_depth=3, max_features=20, n_estimators=25;, score=0.239 total time=   0.0s\n"
     ]
    },
    {
     "name": "stdout",
     "output_type": "stream",
     "text": [
      "[CV 4/5] END max_depth=3, max_features=20, n_estimators=25;, score=0.174 total time=   0.0s\n",
      "[CV 5/5] END max_depth=3, max_features=20, n_estimators=25;, score=0.217 total time=   0.0s\n",
      "[CV 1/5] END max_depth=3, max_features=20, n_estimators=50;, score=0.178 total time=   0.0s\n",
      "[CV 2/5] END max_depth=3, max_features=20, n_estimators=50;, score=0.289 total time=   0.0s\n",
      "[CV 3/5] END max_depth=3, max_features=20, n_estimators=50;, score=0.196 total time=   0.0s\n",
      "[CV 4/5] END max_depth=3, max_features=20, n_estimators=50;, score=0.261 total time=   0.0s\n",
      "[CV 5/5] END max_depth=3, max_features=20, n_estimators=50;, score=0.261 total time=   0.0s\n",
      "[CV 1/5] END max_depth=3, max_features=20, n_estimators=150;, score=0.200 total time=   0.1s\n",
      "[CV 2/5] END max_depth=3, max_features=20, n_estimators=150;, score=0.289 total time=   0.0s\n",
      "[CV 3/5] END max_depth=3, max_features=20, n_estimators=150;, score=0.196 total time=   0.1s\n",
      "[CV 4/5] END max_depth=3, max_features=20, n_estimators=150;, score=0.239 total time=   0.1s\n",
      "[CV 5/5] END max_depth=3, max_features=20, n_estimators=150;, score=0.283 total time=   0.1s\n",
      "[CV 1/5] END max_depth=5, max_features=4, n_estimators=3;, score=0.133 total time=   0.0s\n",
      "[CV 2/5] END max_depth=5, max_features=4, n_estimators=3;, score=0.222 total time=   0.0s\n",
      "[CV 3/5] END max_depth=5, max_features=4, n_estimators=3;, score=0.217 total time=   0.0s\n",
      "[CV 4/5] END max_depth=5, max_features=4, n_estimators=3;, score=0.239 total time=   0.0s\n",
      "[CV 5/5] END max_depth=5, max_features=4, n_estimators=3;, score=0.239 total time=   0.0s\n",
      "[CV 1/5] END max_depth=5, max_features=4, n_estimators=5;, score=0.111 total time=   0.0s\n",
      "[CV 2/5] END max_depth=5, max_features=4, n_estimators=5;, score=0.244 total time=   0.0s\n",
      "[CV 3/5] END max_depth=5, max_features=4, n_estimators=5;, score=0.196 total time=   0.0s\n",
      "[CV 4/5] END max_depth=5, max_features=4, n_estimators=5;, score=0.239 total time=   0.0s\n",
      "[CV 5/5] END max_depth=5, max_features=4, n_estimators=5;, score=0.174 total time=   0.0s\n",
      "[CV 1/5] END max_depth=5, max_features=4, n_estimators=10;, score=0.111 total time=   0.0s\n",
      "[CV 2/5] END max_depth=5, max_features=4, n_estimators=10;, score=0.244 total time=   0.0s\n",
      "[CV 3/5] END max_depth=5, max_features=4, n_estimators=10;, score=0.174 total time=   0.0s\n",
      "[CV 4/5] END max_depth=5, max_features=4, n_estimators=10;, score=0.196 total time=   0.0s\n",
      "[CV 5/5] END max_depth=5, max_features=4, n_estimators=10;, score=0.130 total time=   0.0s\n",
      "[CV 1/5] END max_depth=5, max_features=4, n_estimators=25;, score=0.133 total time=   0.0s\n",
      "[CV 2/5] END max_depth=5, max_features=4, n_estimators=25;, score=0.222 total time=   0.0s\n",
      "[CV 3/5] END max_depth=5, max_features=4, n_estimators=25;, score=0.109 total time=   0.0s\n",
      "[CV 4/5] END max_depth=5, max_features=4, n_estimators=25;, score=0.109 total time=   0.0s\n",
      "[CV 5/5] END max_depth=5, max_features=4, n_estimators=25;, score=0.130 total time=   0.0s\n",
      "[CV 1/5] END max_depth=5, max_features=4, n_estimators=50;, score=0.089 total time=   0.0s\n",
      "[CV 2/5] END max_depth=5, max_features=4, n_estimators=50;, score=0.222 total time=   0.0s\n",
      "[CV 3/5] END max_depth=5, max_features=4, n_estimators=50;, score=0.130 total time=   0.0s\n",
      "[CV 4/5] END max_depth=5, max_features=4, n_estimators=50;, score=0.174 total time=   0.0s\n",
      "[CV 5/5] END max_depth=5, max_features=4, n_estimators=50;, score=0.174 total time=   0.0s\n",
      "[CV 1/5] END max_depth=5, max_features=4, n_estimators=150;, score=0.133 total time=   0.0s\n",
      "[CV 2/5] END max_depth=5, max_features=4, n_estimators=150;, score=0.267 total time=   0.0s\n",
      "[CV 3/5] END max_depth=5, max_features=4, n_estimators=150;, score=0.130 total time=   0.0s\n",
      "[CV 4/5] END max_depth=5, max_features=4, n_estimators=150;, score=0.196 total time=   0.0s\n",
      "[CV 5/5] END max_depth=5, max_features=4, n_estimators=150;, score=0.217 total time=   0.0s\n",
      "[CV 1/5] END max_depth=5, max_features=7, n_estimators=3;, score=0.178 total time=   0.0s\n",
      "[CV 2/5] END max_depth=5, max_features=7, n_estimators=3;, score=0.356 total time=   0.0s\n",
      "[CV 3/5] END max_depth=5, max_features=7, n_estimators=3;, score=0.217 total time=   0.0s\n",
      "[CV 4/5] END max_depth=5, max_features=7, n_estimators=3;, score=0.239 total time=   0.0s\n",
      "[CV 5/5] END max_depth=5, max_features=7, n_estimators=3;, score=0.217 total time=   0.0s\n",
      "[CV 1/5] END max_depth=5, max_features=7, n_estimators=5;, score=0.156 total time=   0.0s\n",
      "[CV 2/5] END max_depth=5, max_features=7, n_estimators=5;, score=0.289 total time=   0.0s\n",
      "[CV 3/5] END max_depth=5, max_features=7, n_estimators=5;, score=0.217 total time=   0.0s\n",
      "[CV 4/5] END max_depth=5, max_features=7, n_estimators=5;, score=0.152 total time=   0.0s\n",
      "[CV 5/5] END max_depth=5, max_features=7, n_estimators=5;, score=0.196 total time=   0.0s\n",
      "[CV 1/5] END max_depth=5, max_features=7, n_estimators=10;, score=0.156 total time=   0.0s\n",
      "[CV 2/5] END max_depth=5, max_features=7, n_estimators=10;, score=0.333 total time=   0.0s\n",
      "[CV 3/5] END max_depth=5, max_features=7, n_estimators=10;, score=0.261 total time=   0.0s\n",
      "[CV 4/5] END max_depth=5, max_features=7, n_estimators=10;, score=0.152 total time=   0.0s\n",
      "[CV 5/5] END max_depth=5, max_features=7, n_estimators=10;, score=0.239 total time=   0.0s\n",
      "[CV 1/5] END max_depth=5, max_features=7, n_estimators=25;, score=0.200 total time=   0.0s\n",
      "[CV 2/5] END max_depth=5, max_features=7, n_estimators=25;, score=0.289 total time=   0.0s\n",
      "[CV 3/5] END max_depth=5, max_features=7, n_estimators=25;, score=0.239 total time=   0.0s\n",
      "[CV 4/5] END max_depth=5, max_features=7, n_estimators=25;, score=0.261 total time=   0.0s\n",
      "[CV 5/5] END max_depth=5, max_features=7, n_estimators=25;, score=0.261 total time=   0.0s\n",
      "[CV 1/5] END max_depth=5, max_features=7, n_estimators=50;, score=0.178 total time=   0.0s\n",
      "[CV 2/5] END max_depth=5, max_features=7, n_estimators=50;, score=0.356 total time=   0.0s\n",
      "[CV 3/5] END max_depth=5, max_features=7, n_estimators=50;, score=0.217 total time=   0.0s\n",
      "[CV 4/5] END max_depth=5, max_features=7, n_estimators=50;, score=0.217 total time=   0.0s\n",
      "[CV 5/5] END max_depth=5, max_features=7, n_estimators=50;, score=0.261 total time=   0.0s\n",
      "[CV 1/5] END max_depth=5, max_features=7, n_estimators=150;, score=0.178 total time=   0.0s\n",
      "[CV 2/5] END max_depth=5, max_features=7, n_estimators=150;, score=0.333 total time=   0.0s\n",
      "[CV 3/5] END max_depth=5, max_features=7, n_estimators=150;, score=0.239 total time=   0.0s\n",
      "[CV 4/5] END max_depth=5, max_features=7, n_estimators=150;, score=0.304 total time=   0.0s\n",
      "[CV 5/5] END max_depth=5, max_features=7, n_estimators=150;, score=0.261 total time=   0.0s\n",
      "[CV 1/5] END max_depth=5, max_features=15, n_estimators=3;, score=0.333 total time=   0.0s\n",
      "[CV 2/5] END max_depth=5, max_features=15, n_estimators=3;, score=0.422 total time=   0.0s\n",
      "[CV 3/5] END max_depth=5, max_features=15, n_estimators=3;, score=0.391 total time=   0.0s\n",
      "[CV 4/5] END max_depth=5, max_features=15, n_estimators=3;, score=0.435 total time=   0.0s\n",
      "[CV 5/5] END max_depth=5, max_features=15, n_estimators=3;, score=0.283 total time=   0.0s\n",
      "[CV 1/5] END max_depth=5, max_features=15, n_estimators=5;, score=0.244 total time=   0.0s\n",
      "[CV 2/5] END max_depth=5, max_features=15, n_estimators=5;, score=0.400 total time=   0.0s\n",
      "[CV 3/5] END max_depth=5, max_features=15, n_estimators=5;, score=0.304 total time=   0.0s\n",
      "[CV 4/5] END max_depth=5, max_features=15, n_estimators=5;, score=0.370 total time=   0.0s\n",
      "[CV 5/5] END max_depth=5, max_features=15, n_estimators=5;, score=0.370 total time=   0.0s\n",
      "[CV 1/5] END max_depth=5, max_features=15, n_estimators=10;, score=0.222 total time=   0.0s\n",
      "[CV 2/5] END max_depth=5, max_features=15, n_estimators=10;, score=0.378 total time=   0.0s\n",
      "[CV 3/5] END max_depth=5, max_features=15, n_estimators=10;, score=0.370 total time=   0.0s\n",
      "[CV 4/5] END max_depth=5, max_features=15, n_estimators=10;, score=0.261 total time=   0.0s\n",
      "[CV 5/5] END max_depth=5, max_features=15, n_estimators=10;, score=0.413 total time=   0.0s\n",
      "[CV 1/5] END max_depth=5, max_features=15, n_estimators=25;, score=0.222 total time=   0.0s\n",
      "[CV 2/5] END max_depth=5, max_features=15, n_estimators=25;, score=0.378 total time=   0.0s\n",
      "[CV 3/5] END max_depth=5, max_features=15, n_estimators=25;, score=0.304 total time=   0.0s\n"
     ]
    },
    {
     "name": "stdout",
     "output_type": "stream",
     "text": [
      "[CV 4/5] END max_depth=5, max_features=15, n_estimators=25;, score=0.304 total time=   0.0s\n",
      "[CV 5/5] END max_depth=5, max_features=15, n_estimators=25;, score=0.370 total time=   0.0s\n",
      "[CV 1/5] END max_depth=5, max_features=15, n_estimators=50;, score=0.267 total time=   0.0s\n",
      "[CV 2/5] END max_depth=5, max_features=15, n_estimators=50;, score=0.400 total time=   0.0s\n",
      "[CV 3/5] END max_depth=5, max_features=15, n_estimators=50;, score=0.304 total time=   0.0s\n",
      "[CV 4/5] END max_depth=5, max_features=15, n_estimators=50;, score=0.348 total time=   0.0s\n",
      "[CV 5/5] END max_depth=5, max_features=15, n_estimators=50;, score=0.413 total time=   0.0s\n",
      "[CV 1/5] END max_depth=5, max_features=15, n_estimators=150;, score=0.267 total time=   0.1s\n",
      "[CV 2/5] END max_depth=5, max_features=15, n_estimators=150;, score=0.400 total time=   0.1s\n",
      "[CV 3/5] END max_depth=5, max_features=15, n_estimators=150;, score=0.304 total time=   0.1s\n",
      "[CV 4/5] END max_depth=5, max_features=15, n_estimators=150;, score=0.370 total time=   0.1s\n",
      "[CV 5/5] END max_depth=5, max_features=15, n_estimators=150;, score=0.370 total time=   0.0s\n",
      "[CV 1/5] END max_depth=5, max_features=20, n_estimators=3;, score=0.378 total time=   0.0s\n",
      "[CV 2/5] END max_depth=5, max_features=20, n_estimators=3;, score=0.422 total time=   0.0s\n",
      "[CV 3/5] END max_depth=5, max_features=20, n_estimators=3;, score=0.304 total time=   0.0s\n",
      "[CV 4/5] END max_depth=5, max_features=20, n_estimators=3;, score=0.304 total time=   0.0s\n",
      "[CV 5/5] END max_depth=5, max_features=20, n_estimators=3;, score=0.348 total time=   0.0s\n",
      "[CV 1/5] END max_depth=5, max_features=20, n_estimators=5;, score=0.244 total time=   0.0s\n",
      "[CV 2/5] END max_depth=5, max_features=20, n_estimators=5;, score=0.511 total time=   0.0s\n",
      "[CV 3/5] END max_depth=5, max_features=20, n_estimators=5;, score=0.370 total time=   0.0s\n",
      "[CV 4/5] END max_depth=5, max_features=20, n_estimators=5;, score=0.326 total time=   0.0s\n",
      "[CV 5/5] END max_depth=5, max_features=20, n_estimators=5;, score=0.413 total time=   0.0s\n",
      "[CV 1/5] END max_depth=5, max_features=20, n_estimators=10;, score=0.267 total time=   0.0s\n",
      "[CV 2/5] END max_depth=5, max_features=20, n_estimators=10;, score=0.422 total time=   0.0s\n",
      "[CV 3/5] END max_depth=5, max_features=20, n_estimators=10;, score=0.326 total time=   0.0s\n",
      "[CV 4/5] END max_depth=5, max_features=20, n_estimators=10;, score=0.196 total time=   0.0s\n",
      "[CV 5/5] END max_depth=5, max_features=20, n_estimators=10;, score=0.391 total time=   0.0s\n",
      "[CV 1/5] END max_depth=5, max_features=20, n_estimators=25;, score=0.244 total time=   0.0s\n",
      "[CV 2/5] END max_depth=5, max_features=20, n_estimators=25;, score=0.444 total time=   0.0s\n",
      "[CV 3/5] END max_depth=5, max_features=20, n_estimators=25;, score=0.283 total time=   0.0s\n",
      "[CV 4/5] END max_depth=5, max_features=20, n_estimators=25;, score=0.304 total time=   0.0s\n",
      "[CV 5/5] END max_depth=5, max_features=20, n_estimators=25;, score=0.413 total time=   0.0s\n",
      "[CV 1/5] END max_depth=5, max_features=20, n_estimators=50;, score=0.311 total time=   0.0s\n",
      "[CV 2/5] END max_depth=5, max_features=20, n_estimators=50;, score=0.422 total time=   0.0s\n",
      "[CV 3/5] END max_depth=5, max_features=20, n_estimators=50;, score=0.304 total time=   0.0s\n",
      "[CV 4/5] END max_depth=5, max_features=20, n_estimators=50;, score=0.348 total time=   0.0s\n",
      "[CV 5/5] END max_depth=5, max_features=20, n_estimators=50;, score=0.435 total time=   0.0s\n",
      "[CV 1/5] END max_depth=5, max_features=20, n_estimators=150;, score=0.356 total time=   0.1s\n",
      "[CV 2/5] END max_depth=5, max_features=20, n_estimators=150;, score=0.422 total time=   0.1s\n",
      "[CV 3/5] END max_depth=5, max_features=20, n_estimators=150;, score=0.326 total time=   0.1s\n",
      "[CV 4/5] END max_depth=5, max_features=20, n_estimators=150;, score=0.370 total time=   0.1s\n",
      "[CV 5/5] END max_depth=5, max_features=20, n_estimators=150;, score=0.391 total time=   0.1s\n",
      "[CV 1/5] END max_depth=7, max_features=4, n_estimators=3;, score=0.200 total time=   0.0s\n",
      "[CV 2/5] END max_depth=7, max_features=4, n_estimators=3;, score=0.200 total time=   0.0s\n",
      "[CV 3/5] END max_depth=7, max_features=4, n_estimators=3;, score=0.391 total time=   0.0s\n",
      "[CV 4/5] END max_depth=7, max_features=4, n_estimators=3;, score=0.391 total time=   0.0s\n",
      "[CV 5/5] END max_depth=7, max_features=4, n_estimators=3;, score=0.413 total time=   0.0s\n",
      "[CV 1/5] END max_depth=7, max_features=4, n_estimators=5;, score=0.200 total time=   0.0s\n",
      "[CV 2/5] END max_depth=7, max_features=4, n_estimators=5;, score=0.333 total time=   0.0s\n",
      "[CV 3/5] END max_depth=7, max_features=4, n_estimators=5;, score=0.304 total time=   0.0s\n",
      "[CV 4/5] END max_depth=7, max_features=4, n_estimators=5;, score=0.239 total time=   0.0s\n",
      "[CV 5/5] END max_depth=7, max_features=4, n_estimators=5;, score=0.370 total time=   0.0s\n",
      "[CV 1/5] END max_depth=7, max_features=4, n_estimators=10;, score=0.267 total time=   0.0s\n",
      "[CV 2/5] END max_depth=7, max_features=4, n_estimators=10;, score=0.311 total time=   0.0s\n",
      "[CV 3/5] END max_depth=7, max_features=4, n_estimators=10;, score=0.196 total time=   0.0s\n",
      "[CV 4/5] END max_depth=7, max_features=4, n_estimators=10;, score=0.174 total time=   0.0s\n",
      "[CV 5/5] END max_depth=7, max_features=4, n_estimators=10;, score=0.261 total time=   0.0s\n",
      "[CV 1/5] END max_depth=7, max_features=4, n_estimators=25;, score=0.200 total time=   0.0s\n",
      "[CV 2/5] END max_depth=7, max_features=4, n_estimators=25;, score=0.311 total time=   0.0s\n",
      "[CV 3/5] END max_depth=7, max_features=4, n_estimators=25;, score=0.261 total time=   0.0s\n",
      "[CV 4/5] END max_depth=7, max_features=4, n_estimators=25;, score=0.239 total time=   0.0s\n",
      "[CV 5/5] END max_depth=7, max_features=4, n_estimators=25;, score=0.283 total time=   0.0s\n",
      "[CV 1/5] END max_depth=7, max_features=4, n_estimators=50;, score=0.200 total time=   0.0s\n",
      "[CV 2/5] END max_depth=7, max_features=4, n_estimators=50;, score=0.333 total time=   0.0s\n",
      "[CV 3/5] END max_depth=7, max_features=4, n_estimators=50;, score=0.217 total time=   0.0s\n",
      "[CV 4/5] END max_depth=7, max_features=4, n_estimators=50;, score=0.304 total time=   0.0s\n",
      "[CV 5/5] END max_depth=7, max_features=4, n_estimators=50;, score=0.283 total time=   0.0s\n",
      "[CV 1/5] END max_depth=7, max_features=4, n_estimators=150;, score=0.156 total time=   0.0s\n",
      "[CV 2/5] END max_depth=7, max_features=4, n_estimators=150;, score=0.356 total time=   0.0s\n",
      "[CV 3/5] END max_depth=7, max_features=4, n_estimators=150;, score=0.261 total time=   0.0s\n",
      "[CV 4/5] END max_depth=7, max_features=4, n_estimators=150;, score=0.326 total time=   0.0s\n",
      "[CV 5/5] END max_depth=7, max_features=4, n_estimators=150;, score=0.326 total time=   0.0s\n",
      "[CV 1/5] END max_depth=7, max_features=7, n_estimators=3;, score=0.422 total time=   0.0s\n",
      "[CV 2/5] END max_depth=7, max_features=7, n_estimators=3;, score=0.444 total time=   0.0s\n",
      "[CV 3/5] END max_depth=7, max_features=7, n_estimators=3;, score=0.391 total time=   0.0s\n",
      "[CV 4/5] END max_depth=7, max_features=7, n_estimators=3;, score=0.370 total time=   0.0s\n",
      "[CV 5/5] END max_depth=7, max_features=7, n_estimators=3;, score=0.457 total time=   0.0s\n",
      "[CV 1/5] END max_depth=7, max_features=7, n_estimators=5;, score=0.289 total time=   0.0s\n",
      "[CV 2/5] END max_depth=7, max_features=7, n_estimators=5;, score=0.400 total time=   0.0s\n",
      "[CV 3/5] END max_depth=7, max_features=7, n_estimators=5;, score=0.348 total time=   0.0s\n",
      "[CV 4/5] END max_depth=7, max_features=7, n_estimators=5;, score=0.326 total time=   0.0s\n",
      "[CV 5/5] END max_depth=7, max_features=7, n_estimators=5;, score=0.522 total time=   0.0s\n",
      "[CV 1/5] END max_depth=7, max_features=7, n_estimators=10;, score=0.289 total time=   0.0s\n",
      "[CV 2/5] END max_depth=7, max_features=7, n_estimators=10;, score=0.311 total time=   0.0s\n",
      "[CV 3/5] END max_depth=7, max_features=7, n_estimators=10;, score=0.348 total time=   0.0s\n",
      "[CV 4/5] END max_depth=7, max_features=7, n_estimators=10;, score=0.304 total time=   0.0s\n",
      "[CV 5/5] END max_depth=7, max_features=7, n_estimators=10;, score=0.348 total time=   0.0s\n",
      "[CV 1/5] END max_depth=7, max_features=7, n_estimators=25;, score=0.267 total time=   0.0s\n",
      "[CV 2/5] END max_depth=7, max_features=7, n_estimators=25;, score=0.333 total time=   0.0s\n",
      "[CV 3/5] END max_depth=7, max_features=7, n_estimators=25;, score=0.326 total time=   0.0s\n",
      "[CV 4/5] END max_depth=7, max_features=7, n_estimators=25;, score=0.326 total time=   0.0s\n",
      "[CV 5/5] END max_depth=7, max_features=7, n_estimators=25;, score=0.326 total time=   0.0s\n"
     ]
    },
    {
     "name": "stdout",
     "output_type": "stream",
     "text": [
      "[CV 1/5] END max_depth=7, max_features=7, n_estimators=50;, score=0.267 total time=   0.0s\n",
      "[CV 2/5] END max_depth=7, max_features=7, n_estimators=50;, score=0.378 total time=   0.0s\n",
      "[CV 3/5] END max_depth=7, max_features=7, n_estimators=50;, score=0.370 total time=   0.0s\n",
      "[CV 4/5] END max_depth=7, max_features=7, n_estimators=50;, score=0.348 total time=   0.0s\n",
      "[CV 5/5] END max_depth=7, max_features=7, n_estimators=50;, score=0.348 total time=   0.0s\n",
      "[CV 1/5] END max_depth=7, max_features=7, n_estimators=150;, score=0.289 total time=   0.0s\n",
      "[CV 2/5] END max_depth=7, max_features=7, n_estimators=150;, score=0.422 total time=   0.1s\n",
      "[CV 3/5] END max_depth=7, max_features=7, n_estimators=150;, score=0.348 total time=   0.1s\n",
      "[CV 4/5] END max_depth=7, max_features=7, n_estimators=150;, score=0.370 total time=   0.0s\n",
      "[CV 5/5] END max_depth=7, max_features=7, n_estimators=150;, score=0.326 total time=   0.0s\n",
      "[CV 1/5] END max_depth=7, max_features=15, n_estimators=3;, score=0.311 total time=   0.0s\n",
      "[CV 2/5] END max_depth=7, max_features=15, n_estimators=3;, score=0.422 total time=   0.0s\n",
      "[CV 3/5] END max_depth=7, max_features=15, n_estimators=3;, score=0.435 total time=   0.0s\n",
      "[CV 4/5] END max_depth=7, max_features=15, n_estimators=3;, score=0.457 total time=   0.0s\n",
      "[CV 5/5] END max_depth=7, max_features=15, n_estimators=3;, score=0.391 total time=   0.0s\n",
      "[CV 1/5] END max_depth=7, max_features=15, n_estimators=5;, score=0.244 total time=   0.0s\n",
      "[CV 2/5] END max_depth=7, max_features=15, n_estimators=5;, score=0.444 total time=   0.0s\n",
      "[CV 3/5] END max_depth=7, max_features=15, n_estimators=5;, score=0.391 total time=   0.0s\n",
      "[CV 4/5] END max_depth=7, max_features=15, n_estimators=5;, score=0.391 total time=   0.0s\n",
      "[CV 5/5] END max_depth=7, max_features=15, n_estimators=5;, score=0.370 total time=   0.0s\n",
      "[CV 1/5] END max_depth=7, max_features=15, n_estimators=10;, score=0.267 total time=   0.0s\n",
      "[CV 2/5] END max_depth=7, max_features=15, n_estimators=10;, score=0.444 total time=   0.0s\n",
      "[CV 3/5] END max_depth=7, max_features=15, n_estimators=10;, score=0.370 total time=   0.0s\n",
      "[CV 4/5] END max_depth=7, max_features=15, n_estimators=10;, score=0.326 total time=   0.0s\n",
      "[CV 5/5] END max_depth=7, max_features=15, n_estimators=10;, score=0.413 total time=   0.0s\n",
      "[CV 1/5] END max_depth=7, max_features=15, n_estimators=25;, score=0.267 total time=   0.0s\n",
      "[CV 2/5] END max_depth=7, max_features=15, n_estimators=25;, score=0.422 total time=   0.0s\n",
      "[CV 3/5] END max_depth=7, max_features=15, n_estimators=25;, score=0.326 total time=   0.0s\n",
      "[CV 4/5] END max_depth=7, max_features=15, n_estimators=25;, score=0.326 total time=   0.0s\n",
      "[CV 5/5] END max_depth=7, max_features=15, n_estimators=25;, score=0.457 total time=   0.0s\n",
      "[CV 1/5] END max_depth=7, max_features=15, n_estimators=50;, score=0.289 total time=   0.0s\n",
      "[CV 2/5] END max_depth=7, max_features=15, n_estimators=50;, score=0.467 total time=   0.0s\n",
      "[CV 3/5] END max_depth=7, max_features=15, n_estimators=50;, score=0.457 total time=   0.0s\n",
      "[CV 4/5] END max_depth=7, max_features=15, n_estimators=50;, score=0.391 total time=   0.0s\n",
      "[CV 5/5] END max_depth=7, max_features=15, n_estimators=50;, score=0.500 total time=   0.0s\n",
      "[CV 1/5] END max_depth=7, max_features=15, n_estimators=150;, score=0.289 total time=   0.1s\n",
      "[CV 2/5] END max_depth=7, max_features=15, n_estimators=150;, score=0.422 total time=   0.1s\n",
      "[CV 3/5] END max_depth=7, max_features=15, n_estimators=150;, score=0.391 total time=   0.1s\n",
      "[CV 4/5] END max_depth=7, max_features=15, n_estimators=150;, score=0.413 total time=   0.1s\n",
      "[CV 5/5] END max_depth=7, max_features=15, n_estimators=150;, score=0.478 total time=   0.1s\n",
      "[CV 1/5] END max_depth=7, max_features=20, n_estimators=3;, score=0.289 total time=   0.0s\n",
      "[CV 2/5] END max_depth=7, max_features=20, n_estimators=3;, score=0.444 total time=   0.0s\n",
      "[CV 3/5] END max_depth=7, max_features=20, n_estimators=3;, score=0.413 total time=   0.0s\n",
      "[CV 4/5] END max_depth=7, max_features=20, n_estimators=3;, score=0.478 total time=   0.0s\n",
      "[CV 5/5] END max_depth=7, max_features=20, n_estimators=3;, score=0.500 total time=   0.0s\n",
      "[CV 1/5] END max_depth=7, max_features=20, n_estimators=5;, score=0.289 total time=   0.0s\n",
      "[CV 2/5] END max_depth=7, max_features=20, n_estimators=5;, score=0.467 total time=   0.0s\n",
      "[CV 3/5] END max_depth=7, max_features=20, n_estimators=5;, score=0.457 total time=   0.0s\n",
      "[CV 4/5] END max_depth=7, max_features=20, n_estimators=5;, score=0.348 total time=   0.0s\n",
      "[CV 5/5] END max_depth=7, max_features=20, n_estimators=5;, score=0.478 total time=   0.0s\n",
      "[CV 1/5] END max_depth=7, max_features=20, n_estimators=10;, score=0.333 total time=   0.0s\n",
      "[CV 2/5] END max_depth=7, max_features=20, n_estimators=10;, score=0.400 total time=   0.0s\n",
      "[CV 3/5] END max_depth=7, max_features=20, n_estimators=10;, score=0.435 total time=   0.0s\n",
      "[CV 4/5] END max_depth=7, max_features=20, n_estimators=10;, score=0.348 total time=   0.0s\n",
      "[CV 5/5] END max_depth=7, max_features=20, n_estimators=10;, score=0.500 total time=   0.0s\n",
      "[CV 1/5] END max_depth=7, max_features=20, n_estimators=25;, score=0.378 total time=   0.0s\n",
      "[CV 2/5] END max_depth=7, max_features=20, n_estimators=25;, score=0.422 total time=   0.0s\n",
      "[CV 3/5] END max_depth=7, max_features=20, n_estimators=25;, score=0.435 total time=   0.0s\n",
      "[CV 4/5] END max_depth=7, max_features=20, n_estimators=25;, score=0.283 total time=   0.0s\n",
      "[CV 5/5] END max_depth=7, max_features=20, n_estimators=25;, score=0.500 total time=   0.0s\n",
      "[CV 1/5] END max_depth=7, max_features=20, n_estimators=50;, score=0.400 total time=   0.0s\n",
      "[CV 2/5] END max_depth=7, max_features=20, n_estimators=50;, score=0.422 total time=   0.0s\n",
      "[CV 3/5] END max_depth=7, max_features=20, n_estimators=50;, score=0.413 total time=   0.0s\n",
      "[CV 4/5] END max_depth=7, max_features=20, n_estimators=50;, score=0.370 total time=   0.0s\n",
      "[CV 5/5] END max_depth=7, max_features=20, n_estimators=50;, score=0.478 total time=   0.0s\n",
      "[CV 1/5] END max_depth=7, max_features=20, n_estimators=150;, score=0.422 total time=   0.1s\n",
      "[CV 2/5] END max_depth=7, max_features=20, n_estimators=150;, score=0.444 total time=   0.1s\n",
      "[CV 3/5] END max_depth=7, max_features=20, n_estimators=150;, score=0.435 total time=   0.1s\n",
      "[CV 4/5] END max_depth=7, max_features=20, n_estimators=150;, score=0.391 total time=   0.1s\n",
      "[CV 5/5] END max_depth=7, max_features=20, n_estimators=150;, score=0.522 total time=   0.1s\n",
      "[CV 1/5] END max_depth=10, max_features=4, n_estimators=3;, score=0.244 total time=   0.0s\n",
      "[CV 2/5] END max_depth=10, max_features=4, n_estimators=3;, score=0.356 total time=   0.0s\n",
      "[CV 3/5] END max_depth=10, max_features=4, n_estimators=3;, score=0.391 total time=   0.0s\n",
      "[CV 4/5] END max_depth=10, max_features=4, n_estimators=3;, score=0.326 total time=   0.0s\n",
      "[CV 5/5] END max_depth=10, max_features=4, n_estimators=3;, score=0.500 total time=   0.0s\n",
      "[CV 1/5] END max_depth=10, max_features=4, n_estimators=5;, score=0.222 total time=   0.0s\n",
      "[CV 2/5] END max_depth=10, max_features=4, n_estimators=5;, score=0.422 total time=   0.0s\n",
      "[CV 3/5] END max_depth=10, max_features=4, n_estimators=5;, score=0.370 total time=   0.0s\n",
      "[CV 4/5] END max_depth=10, max_features=4, n_estimators=5;, score=0.370 total time=   0.0s\n",
      "[CV 5/5] END max_depth=10, max_features=4, n_estimators=5;, score=0.457 total time=   0.0s\n",
      "[CV 1/5] END max_depth=10, max_features=4, n_estimators=10;, score=0.244 total time=   0.0s\n",
      "[CV 2/5] END max_depth=10, max_features=4, n_estimators=10;, score=0.378 total time=   0.0s\n",
      "[CV 3/5] END max_depth=10, max_features=4, n_estimators=10;, score=0.348 total time=   0.0s\n",
      "[CV 4/5] END max_depth=10, max_features=4, n_estimators=10;, score=0.370 total time=   0.0s\n",
      "[CV 5/5] END max_depth=10, max_features=4, n_estimators=10;, score=0.326 total time=   0.0s\n",
      "[CV 1/5] END max_depth=10, max_features=4, n_estimators=25;, score=0.244 total time=   0.0s\n",
      "[CV 2/5] END max_depth=10, max_features=4, n_estimators=25;, score=0.422 total time=   0.0s\n",
      "[CV 3/5] END max_depth=10, max_features=4, n_estimators=25;, score=0.391 total time=   0.0s\n",
      "[CV 4/5] END max_depth=10, max_features=4, n_estimators=25;, score=0.348 total time=   0.0s\n",
      "[CV 5/5] END max_depth=10, max_features=4, n_estimators=25;, score=0.326 total time=   0.0s\n",
      "[CV 1/5] END max_depth=10, max_features=4, n_estimators=50;, score=0.222 total time=   0.0s\n",
      "[CV 2/5] END max_depth=10, max_features=4, n_estimators=50;, score=0.422 total time=   0.0s\n",
      "[CV 3/5] END max_depth=10, max_features=4, n_estimators=50;, score=0.370 total time=   0.0s\n",
      "[CV 4/5] END max_depth=10, max_features=4, n_estimators=50;, score=0.391 total time=   0.0s\n"
     ]
    },
    {
     "name": "stdout",
     "output_type": "stream",
     "text": [
      "[CV 5/5] END max_depth=10, max_features=4, n_estimators=50;, score=0.391 total time=   0.0s\n",
      "[CV 1/5] END max_depth=10, max_features=4, n_estimators=150;, score=0.267 total time=   0.0s\n",
      "[CV 2/5] END max_depth=10, max_features=4, n_estimators=150;, score=0.378 total time=   0.0s\n",
      "[CV 3/5] END max_depth=10, max_features=4, n_estimators=150;, score=0.413 total time=   0.0s\n",
      "[CV 4/5] END max_depth=10, max_features=4, n_estimators=150;, score=0.391 total time=   0.0s\n",
      "[CV 5/5] END max_depth=10, max_features=4, n_estimators=150;, score=0.370 total time=   0.0s\n",
      "[CV 1/5] END max_depth=10, max_features=7, n_estimators=3;, score=0.356 total time=   0.0s\n",
      "[CV 2/5] END max_depth=10, max_features=7, n_estimators=3;, score=0.378 total time=   0.0s\n",
      "[CV 3/5] END max_depth=10, max_features=7, n_estimators=3;, score=0.435 total time=   0.0s\n",
      "[CV 4/5] END max_depth=10, max_features=7, n_estimators=3;, score=0.370 total time=   0.0s\n",
      "[CV 5/5] END max_depth=10, max_features=7, n_estimators=3;, score=0.435 total time=   0.0s\n",
      "[CV 1/5] END max_depth=10, max_features=7, n_estimators=5;, score=0.289 total time=   0.0s\n",
      "[CV 2/5] END max_depth=10, max_features=7, n_estimators=5;, score=0.400 total time=   0.0s\n",
      "[CV 3/5] END max_depth=10, max_features=7, n_estimators=5;, score=0.457 total time=   0.0s\n",
      "[CV 4/5] END max_depth=10, max_features=7, n_estimators=5;, score=0.348 total time=   0.0s\n",
      "[CV 5/5] END max_depth=10, max_features=7, n_estimators=5;, score=0.370 total time=   0.0s\n",
      "[CV 1/5] END max_depth=10, max_features=7, n_estimators=10;, score=0.289 total time=   0.0s\n",
      "[CV 2/5] END max_depth=10, max_features=7, n_estimators=10;, score=0.378 total time=   0.0s\n",
      "[CV 3/5] END max_depth=10, max_features=7, n_estimators=10;, score=0.500 total time=   0.0s\n",
      "[CV 4/5] END max_depth=10, max_features=7, n_estimators=10;, score=0.326 total time=   0.0s\n",
      "[CV 5/5] END max_depth=10, max_features=7, n_estimators=10;, score=0.478 total time=   0.0s\n",
      "[CV 1/5] END max_depth=10, max_features=7, n_estimators=25;, score=0.311 total time=   0.0s\n",
      "[CV 2/5] END max_depth=10, max_features=7, n_estimators=25;, score=0.378 total time=   0.0s\n",
      "[CV 3/5] END max_depth=10, max_features=7, n_estimators=25;, score=0.435 total time=   0.0s\n",
      "[CV 4/5] END max_depth=10, max_features=7, n_estimators=25;, score=0.413 total time=   0.0s\n",
      "[CV 5/5] END max_depth=10, max_features=7, n_estimators=25;, score=0.413 total time=   0.0s\n",
      "[CV 1/5] END max_depth=10, max_features=7, n_estimators=50;, score=0.289 total time=   0.0s\n",
      "[CV 2/5] END max_depth=10, max_features=7, n_estimators=50;, score=0.400 total time=   0.0s\n",
      "[CV 3/5] END max_depth=10, max_features=7, n_estimators=50;, score=0.457 total time=   0.0s\n",
      "[CV 4/5] END max_depth=10, max_features=7, n_estimators=50;, score=0.391 total time=   0.0s\n",
      "[CV 5/5] END max_depth=10, max_features=7, n_estimators=50;, score=0.391 total time=   0.0s\n",
      "[CV 1/5] END max_depth=10, max_features=7, n_estimators=150;, score=0.311 total time=   0.1s\n",
      "[CV 2/5] END max_depth=10, max_features=7, n_estimators=150;, score=0.400 total time=   0.1s\n",
      "[CV 3/5] END max_depth=10, max_features=7, n_estimators=150;, score=0.478 total time=   0.1s\n",
      "[CV 4/5] END max_depth=10, max_features=7, n_estimators=150;, score=0.370 total time=   0.1s\n",
      "[CV 5/5] END max_depth=10, max_features=7, n_estimators=150;, score=0.413 total time=   0.1s\n",
      "[CV 1/5] END max_depth=10, max_features=15, n_estimators=3;, score=0.289 total time=   0.0s\n",
      "[CV 2/5] END max_depth=10, max_features=15, n_estimators=3;, score=0.489 total time=   0.0s\n",
      "[CV 3/5] END max_depth=10, max_features=15, n_estimators=3;, score=0.370 total time=   0.0s\n",
      "[CV 4/5] END max_depth=10, max_features=15, n_estimators=3;, score=0.326 total time=   0.0s\n",
      "[CV 5/5] END max_depth=10, max_features=15, n_estimators=3;, score=0.348 total time=   0.0s\n",
      "[CV 1/5] END max_depth=10, max_features=15, n_estimators=5;, score=0.289 total time=   0.0s\n",
      "[CV 2/5] END max_depth=10, max_features=15, n_estimators=5;, score=0.444 total time=   0.0s\n",
      "[CV 3/5] END max_depth=10, max_features=15, n_estimators=5;, score=0.413 total time=   0.0s\n",
      "[CV 4/5] END max_depth=10, max_features=15, n_estimators=5;, score=0.391 total time=   0.0s\n",
      "[CV 5/5] END max_depth=10, max_features=15, n_estimators=5;, score=0.478 total time=   0.0s\n",
      "[CV 1/5] END max_depth=10, max_features=15, n_estimators=10;, score=0.311 total time=   0.0s\n",
      "[CV 2/5] END max_depth=10, max_features=15, n_estimators=10;, score=0.378 total time=   0.0s\n",
      "[CV 3/5] END max_depth=10, max_features=15, n_estimators=10;, score=0.391 total time=   0.0s\n",
      "[CV 4/5] END max_depth=10, max_features=15, n_estimators=10;, score=0.326 total time=   0.0s\n",
      "[CV 5/5] END max_depth=10, max_features=15, n_estimators=10;, score=0.543 total time=   0.0s\n",
      "[CV 1/5] END max_depth=10, max_features=15, n_estimators=25;, score=0.356 total time=   0.0s\n",
      "[CV 2/5] END max_depth=10, max_features=15, n_estimators=25;, score=0.378 total time=   0.0s\n",
      "[CV 3/5] END max_depth=10, max_features=15, n_estimators=25;, score=0.435 total time=   0.0s\n",
      "[CV 4/5] END max_depth=10, max_features=15, n_estimators=25;, score=0.326 total time=   0.0s\n",
      "[CV 5/5] END max_depth=10, max_features=15, n_estimators=25;, score=0.522 total time=   0.0s\n",
      "[CV 1/5] END max_depth=10, max_features=15, n_estimators=50;, score=0.378 total time=   0.0s\n",
      "[CV 2/5] END max_depth=10, max_features=15, n_estimators=50;, score=0.356 total time=   0.0s\n",
      "[CV 3/5] END max_depth=10, max_features=15, n_estimators=50;, score=0.478 total time=   0.0s\n",
      "[CV 4/5] END max_depth=10, max_features=15, n_estimators=50;, score=0.370 total time=   0.0s\n",
      "[CV 5/5] END max_depth=10, max_features=15, n_estimators=50;, score=0.500 total time=   0.0s\n",
      "[CV 1/5] END max_depth=10, max_features=15, n_estimators=150;, score=0.400 total time=   0.1s\n",
      "[CV 2/5] END max_depth=10, max_features=15, n_estimators=150;, score=0.422 total time=   0.1s\n",
      "[CV 3/5] END max_depth=10, max_features=15, n_estimators=150;, score=0.478 total time=   0.1s\n",
      "[CV 4/5] END max_depth=10, max_features=15, n_estimators=150;, score=0.413 total time=   0.1s\n",
      "[CV 5/5] END max_depth=10, max_features=15, n_estimators=150;, score=0.478 total time=   0.1s\n",
      "[CV 1/5] END max_depth=10, max_features=20, n_estimators=3;, score=0.311 total time=   0.0s\n",
      "[CV 2/5] END max_depth=10, max_features=20, n_estimators=3;, score=0.467 total time=   0.0s\n",
      "[CV 3/5] END max_depth=10, max_features=20, n_estimators=3;, score=0.457 total time=   0.0s\n",
      "[CV 4/5] END max_depth=10, max_features=20, n_estimators=3;, score=0.435 total time=   0.0s\n",
      "[CV 5/5] END max_depth=10, max_features=20, n_estimators=3;, score=0.457 total time=   0.0s\n",
      "[CV 1/5] END max_depth=10, max_features=20, n_estimators=5;, score=0.333 total time=   0.0s\n",
      "[CV 2/5] END max_depth=10, max_features=20, n_estimators=5;, score=0.422 total time=   0.0s\n",
      "[CV 3/5] END max_depth=10, max_features=20, n_estimators=5;, score=0.500 total time=   0.0s\n",
      "[CV 4/5] END max_depth=10, max_features=20, n_estimators=5;, score=0.435 total time=   0.0s\n",
      "[CV 5/5] END max_depth=10, max_features=20, n_estimators=5;, score=0.413 total time=   0.0s\n",
      "[CV 1/5] END max_depth=10, max_features=20, n_estimators=10;, score=0.356 total time=   0.0s\n",
      "[CV 2/5] END max_depth=10, max_features=20, n_estimators=10;, score=0.444 total time=   0.0s\n",
      "[CV 3/5] END max_depth=10, max_features=20, n_estimators=10;, score=0.478 total time=   0.0s\n",
      "[CV 4/5] END max_depth=10, max_features=20, n_estimators=10;, score=0.413 total time=   0.0s\n",
      "[CV 5/5] END max_depth=10, max_features=20, n_estimators=10;, score=0.522 total time=   0.0s\n",
      "[CV 1/5] END max_depth=10, max_features=20, n_estimators=25;, score=0.356 total time=   0.0s\n",
      "[CV 2/5] END max_depth=10, max_features=20, n_estimators=25;, score=0.444 total time=   0.0s\n",
      "[CV 3/5] END max_depth=10, max_features=20, n_estimators=25;, score=0.478 total time=   0.0s\n",
      "[CV 4/5] END max_depth=10, max_features=20, n_estimators=25;, score=0.391 total time=   0.0s\n",
      "[CV 5/5] END max_depth=10, max_features=20, n_estimators=25;, score=0.565 total time=   0.0s\n",
      "[CV 1/5] END max_depth=10, max_features=20, n_estimators=50;, score=0.333 total time=   0.0s\n",
      "[CV 2/5] END max_depth=10, max_features=20, n_estimators=50;, score=0.444 total time=   0.0s\n",
      "[CV 3/5] END max_depth=10, max_features=20, n_estimators=50;, score=0.478 total time=   0.0s\n",
      "[CV 4/5] END max_depth=10, max_features=20, n_estimators=50;, score=0.391 total time=   0.0s\n",
      "[CV 5/5] END max_depth=10, max_features=20, n_estimators=50;, score=0.522 total time=   0.0s\n"
     ]
    },
    {
     "name": "stdout",
     "output_type": "stream",
     "text": [
      "[CV 1/5] END max_depth=10, max_features=20, n_estimators=150;, score=0.378 total time=   0.1s\n",
      "[CV 2/5] END max_depth=10, max_features=20, n_estimators=150;, score=0.422 total time=   0.1s\n",
      "[CV 3/5] END max_depth=10, max_features=20, n_estimators=150;, score=0.500 total time=   0.1s\n",
      "[CV 4/5] END max_depth=10, max_features=20, n_estimators=150;, score=0.391 total time=   0.1s\n",
      "[CV 5/5] END max_depth=10, max_features=20, n_estimators=150;, score=0.478 total time=   0.1s\n",
      "[CV 1/5] END max_depth=None, max_features=4, n_estimators=3;, score=0.267 total time=   0.0s\n",
      "[CV 2/5] END max_depth=None, max_features=4, n_estimators=3;, score=0.400 total time=   0.0s\n",
      "[CV 3/5] END max_depth=None, max_features=4, n_estimators=3;, score=0.478 total time=   0.0s\n",
      "[CV 4/5] END max_depth=None, max_features=4, n_estimators=3;, score=0.435 total time=   0.0s\n",
      "[CV 5/5] END max_depth=None, max_features=4, n_estimators=3;, score=0.435 total time=   0.0s\n",
      "[CV 1/5] END max_depth=None, max_features=4, n_estimators=5;, score=0.200 total time=   0.0s\n",
      "[CV 2/5] END max_depth=None, max_features=4, n_estimators=5;, score=0.422 total time=   0.0s\n",
      "[CV 3/5] END max_depth=None, max_features=4, n_estimators=5;, score=0.522 total time=   0.0s\n",
      "[CV 4/5] END max_depth=None, max_features=4, n_estimators=5;, score=0.391 total time=   0.0s\n",
      "[CV 5/5] END max_depth=None, max_features=4, n_estimators=5;, score=0.391 total time=   0.0s\n",
      "[CV 1/5] END max_depth=None, max_features=4, n_estimators=10;, score=0.267 total time=   0.0s\n",
      "[CV 2/5] END max_depth=None, max_features=4, n_estimators=10;, score=0.356 total time=   0.0s\n",
      "[CV 3/5] END max_depth=None, max_features=4, n_estimators=10;, score=0.391 total time=   0.0s\n",
      "[CV 4/5] END max_depth=None, max_features=4, n_estimators=10;, score=0.283 total time=   0.0s\n",
      "[CV 5/5] END max_depth=None, max_features=4, n_estimators=10;, score=0.283 total time=   0.0s\n",
      "[CV 1/5] END max_depth=None, max_features=4, n_estimators=25;, score=0.267 total time=   0.0s\n",
      "[CV 2/5] END max_depth=None, max_features=4, n_estimators=25;, score=0.378 total time=   0.0s\n",
      "[CV 3/5] END max_depth=None, max_features=4, n_estimators=25;, score=0.500 total time=   0.0s\n",
      "[CV 4/5] END max_depth=None, max_features=4, n_estimators=25;, score=0.391 total time=   0.0s\n",
      "[CV 5/5] END max_depth=None, max_features=4, n_estimators=25;, score=0.348 total time=   0.0s\n",
      "[CV 1/5] END max_depth=None, max_features=4, n_estimators=50;, score=0.311 total time=   0.0s\n",
      "[CV 2/5] END max_depth=None, max_features=4, n_estimators=50;, score=0.378 total time=   0.0s\n",
      "[CV 3/5] END max_depth=None, max_features=4, n_estimators=50;, score=0.457 total time=   0.0s\n",
      "[CV 4/5] END max_depth=None, max_features=4, n_estimators=50;, score=0.413 total time=   0.0s\n",
      "[CV 5/5] END max_depth=None, max_features=4, n_estimators=50;, score=0.304 total time=   0.0s\n",
      "[CV 1/5] END max_depth=None, max_features=4, n_estimators=150;, score=0.289 total time=   0.1s\n",
      "[CV 2/5] END max_depth=None, max_features=4, n_estimators=150;, score=0.378 total time=   0.1s\n",
      "[CV 3/5] END max_depth=None, max_features=4, n_estimators=150;, score=0.391 total time=   0.1s\n",
      "[CV 4/5] END max_depth=None, max_features=4, n_estimators=150;, score=0.435 total time=   0.0s\n",
      "[CV 5/5] END max_depth=None, max_features=4, n_estimators=150;, score=0.326 total time=   0.0s\n",
      "[CV 1/5] END max_depth=None, max_features=7, n_estimators=3;, score=0.400 total time=   0.0s\n",
      "[CV 2/5] END max_depth=None, max_features=7, n_estimators=3;, score=0.444 total time=   0.0s\n",
      "[CV 3/5] END max_depth=None, max_features=7, n_estimators=3;, score=0.522 total time=   0.0s\n",
      "[CV 4/5] END max_depth=None, max_features=7, n_estimators=3;, score=0.522 total time=   0.0s\n",
      "[CV 5/5] END max_depth=None, max_features=7, n_estimators=3;, score=0.457 total time=   0.0s\n",
      "[CV 1/5] END max_depth=None, max_features=7, n_estimators=5;, score=0.356 total time=   0.0s\n",
      "[CV 2/5] END max_depth=None, max_features=7, n_estimators=5;, score=0.378 total time=   0.0s\n",
      "[CV 3/5] END max_depth=None, max_features=7, n_estimators=5;, score=0.543 total time=   0.0s\n",
      "[CV 4/5] END max_depth=None, max_features=7, n_estimators=5;, score=0.391 total time=   0.0s\n",
      "[CV 5/5] END max_depth=None, max_features=7, n_estimators=5;, score=0.457 total time=   0.0s\n",
      "[CV 1/5] END max_depth=None, max_features=7, n_estimators=10;, score=0.311 total time=   0.0s\n",
      "[CV 2/5] END max_depth=None, max_features=7, n_estimators=10;, score=0.378 total time=   0.0s\n",
      "[CV 3/5] END max_depth=None, max_features=7, n_estimators=10;, score=0.435 total time=   0.0s\n",
      "[CV 4/5] END max_depth=None, max_features=7, n_estimators=10;, score=0.326 total time=   0.0s\n",
      "[CV 5/5] END max_depth=None, max_features=7, n_estimators=10;, score=0.478 total time=   0.0s\n",
      "[CV 1/5] END max_depth=None, max_features=7, n_estimators=25;, score=0.333 total time=   0.0s\n",
      "[CV 2/5] END max_depth=None, max_features=7, n_estimators=25;, score=0.378 total time=   0.0s\n",
      "[CV 3/5] END max_depth=None, max_features=7, n_estimators=25;, score=0.413 total time=   0.0s\n",
      "[CV 4/5] END max_depth=None, max_features=7, n_estimators=25;, score=0.413 total time=   0.0s\n",
      "[CV 5/5] END max_depth=None, max_features=7, n_estimators=25;, score=0.413 total time=   0.0s\n",
      "[CV 1/5] END max_depth=None, max_features=7, n_estimators=50;, score=0.333 total time=   0.0s\n",
      "[CV 2/5] END max_depth=None, max_features=7, n_estimators=50;, score=0.333 total time=   0.0s\n",
      "[CV 3/5] END max_depth=None, max_features=7, n_estimators=50;, score=0.435 total time=   0.0s\n",
      "[CV 4/5] END max_depth=None, max_features=7, n_estimators=50;, score=0.326 total time=   0.0s\n",
      "[CV 5/5] END max_depth=None, max_features=7, n_estimators=50;, score=0.413 total time=   0.0s\n",
      "[CV 1/5] END max_depth=None, max_features=7, n_estimators=150;, score=0.311 total time=   0.1s\n",
      "[CV 2/5] END max_depth=None, max_features=7, n_estimators=150;, score=0.333 total time=   0.1s\n",
      "[CV 3/5] END max_depth=None, max_features=7, n_estimators=150;, score=0.457 total time=   0.1s\n",
      "[CV 4/5] END max_depth=None, max_features=7, n_estimators=150;, score=0.370 total time=   0.0s\n",
      "[CV 5/5] END max_depth=None, max_features=7, n_estimators=150;, score=0.435 total time=   0.1s\n",
      "[CV 1/5] END max_depth=None, max_features=15, n_estimators=3;, score=0.333 total time=   0.0s\n",
      "[CV 2/5] END max_depth=None, max_features=15, n_estimators=3;, score=0.489 total time=   0.0s\n",
      "[CV 3/5] END max_depth=None, max_features=15, n_estimators=3;, score=0.522 total time=   0.0s\n",
      "[CV 4/5] END max_depth=None, max_features=15, n_estimators=3;, score=0.478 total time=   0.0s\n",
      "[CV 5/5] END max_depth=None, max_features=15, n_estimators=3;, score=0.304 total time=   0.0s\n",
      "[CV 1/5] END max_depth=None, max_features=15, n_estimators=5;, score=0.400 total time=   0.0s\n",
      "[CV 2/5] END max_depth=None, max_features=15, n_estimators=5;, score=0.511 total time=   0.0s\n",
      "[CV 3/5] END max_depth=None, max_features=15, n_estimators=5;, score=0.457 total time=   0.0s\n",
      "[CV 4/5] END max_depth=None, max_features=15, n_estimators=5;, score=0.500 total time=   0.0s\n",
      "[CV 5/5] END max_depth=None, max_features=15, n_estimators=5;, score=0.457 total time=   0.0s\n",
      "[CV 1/5] END max_depth=None, max_features=15, n_estimators=10;, score=0.311 total time=   0.0s\n",
      "[CV 2/5] END max_depth=None, max_features=15, n_estimators=10;, score=0.378 total time=   0.0s\n",
      "[CV 3/5] END max_depth=None, max_features=15, n_estimators=10;, score=0.370 total time=   0.0s\n",
      "[CV 4/5] END max_depth=None, max_features=15, n_estimators=10;, score=0.348 total time=   0.0s\n",
      "[CV 5/5] END max_depth=None, max_features=15, n_estimators=10;, score=0.435 total time=   0.0s\n",
      "[CV 1/5] END max_depth=None, max_features=15, n_estimators=25;, score=0.311 total time=   0.0s\n",
      "[CV 2/5] END max_depth=None, max_features=15, n_estimators=25;, score=0.467 total time=   0.0s\n",
      "[CV 3/5] END max_depth=None, max_features=15, n_estimators=25;, score=0.522 total time=   0.0s\n",
      "[CV 4/5] END max_depth=None, max_features=15, n_estimators=25;, score=0.348 total time=   0.0s\n",
      "[CV 5/5] END max_depth=None, max_features=15, n_estimators=25;, score=0.500 total time=   0.0s\n",
      "[CV 1/5] END max_depth=None, max_features=15, n_estimators=50;, score=0.422 total time=   0.0s\n",
      "[CV 2/5] END max_depth=None, max_features=15, n_estimators=50;, score=0.444 total time=   0.0s\n",
      "[CV 3/5] END max_depth=None, max_features=15, n_estimators=50;, score=0.435 total time=   0.0s\n",
      "[CV 4/5] END max_depth=None, max_features=15, n_estimators=50;, score=0.326 total time=   0.0s\n",
      "[CV 5/5] END max_depth=None, max_features=15, n_estimators=50;, score=0.522 total time=   0.0s\n"
     ]
    },
    {
     "name": "stdout",
     "output_type": "stream",
     "text": [
      "[CV 1/5] END max_depth=None, max_features=15, n_estimators=150;, score=0.378 total time=   0.1s\n",
      "[CV 2/5] END max_depth=None, max_features=15, n_estimators=150;, score=0.422 total time=   0.1s\n",
      "[CV 3/5] END max_depth=None, max_features=15, n_estimators=150;, score=0.478 total time=   0.1s\n",
      "[CV 4/5] END max_depth=None, max_features=15, n_estimators=150;, score=0.413 total time=   0.1s\n",
      "[CV 5/5] END max_depth=None, max_features=15, n_estimators=150;, score=0.543 total time=   0.1s\n",
      "[CV 1/5] END max_depth=None, max_features=20, n_estimators=3;, score=0.489 total time=   0.0s\n",
      "[CV 2/5] END max_depth=None, max_features=20, n_estimators=3;, score=0.533 total time=   0.0s\n",
      "[CV 3/5] END max_depth=None, max_features=20, n_estimators=3;, score=0.543 total time=   0.0s\n",
      "[CV 4/5] END max_depth=None, max_features=20, n_estimators=3;, score=0.500 total time=   0.0s\n",
      "[CV 5/5] END max_depth=None, max_features=20, n_estimators=3;, score=0.478 total time=   0.0s\n",
      "[CV 1/5] END max_depth=None, max_features=20, n_estimators=5;, score=0.400 total time=   0.0s\n",
      "[CV 2/5] END max_depth=None, max_features=20, n_estimators=5;, score=0.556 total time=   0.0s\n",
      "[CV 3/5] END max_depth=None, max_features=20, n_estimators=5;, score=0.543 total time=   0.0s\n",
      "[CV 4/5] END max_depth=None, max_features=20, n_estimators=5;, score=0.413 total time=   0.0s\n",
      "[CV 5/5] END max_depth=None, max_features=20, n_estimators=5;, score=0.543 total time=   0.0s\n",
      "[CV 1/5] END max_depth=None, max_features=20, n_estimators=10;, score=0.311 total time=   0.0s\n",
      "[CV 2/5] END max_depth=None, max_features=20, n_estimators=10;, score=0.533 total time=   0.0s\n",
      "[CV 3/5] END max_depth=None, max_features=20, n_estimators=10;, score=0.413 total time=   0.0s\n",
      "[CV 4/5] END max_depth=None, max_features=20, n_estimators=10;, score=0.283 total time=   0.0s\n",
      "[CV 5/5] END max_depth=None, max_features=20, n_estimators=10;, score=0.543 total time=   0.0s\n",
      "[CV 1/5] END max_depth=None, max_features=20, n_estimators=25;, score=0.356 total time=   0.0s\n",
      "[CV 2/5] END max_depth=None, max_features=20, n_estimators=25;, score=0.489 total time=   0.0s\n",
      "[CV 3/5] END max_depth=None, max_features=20, n_estimators=25;, score=0.522 total time=   0.0s\n",
      "[CV 4/5] END max_depth=None, max_features=20, n_estimators=25;, score=0.326 total time=   0.0s\n",
      "[CV 5/5] END max_depth=None, max_features=20, n_estimators=25;, score=0.565 total time=   0.0s\n",
      "[CV 1/5] END max_depth=None, max_features=20, n_estimators=50;, score=0.444 total time=   0.0s\n",
      "[CV 2/5] END max_depth=None, max_features=20, n_estimators=50;, score=0.467 total time=   0.0s\n",
      "[CV 3/5] END max_depth=None, max_features=20, n_estimators=50;, score=0.543 total time=   0.0s\n",
      "[CV 4/5] END max_depth=None, max_features=20, n_estimators=50;, score=0.348 total time=   0.0s\n",
      "[CV 5/5] END max_depth=None, max_features=20, n_estimators=50;, score=0.543 total time=   0.0s\n",
      "[CV 1/5] END max_depth=None, max_features=20, n_estimators=150;, score=0.422 total time=   0.1s\n",
      "[CV 2/5] END max_depth=None, max_features=20, n_estimators=150;, score=0.422 total time=   0.1s\n",
      "[CV 3/5] END max_depth=None, max_features=20, n_estimators=150;, score=0.500 total time=   0.1s\n",
      "[CV 4/5] END max_depth=None, max_features=20, n_estimators=150;, score=0.391 total time=   0.1s\n",
      "[CV 5/5] END max_depth=None, max_features=20, n_estimators=150;, score=0.500 total time=   0.1s\n"
     ]
    },
    {
     "data": {
      "text/plain": [
       "GridSearchCV(cv=5, estimator=RandomForestClassifier(random_state=2),\n",
       "             param_grid={'max_depth': [3, 5, 7, 10, None],\n",
       "                         'max_features': [4, 7, 15, 20],\n",
       "                         'n_estimators': [3, 5, 10, 25, 50, 150]},\n",
       "             scoring='recall', verbose=4)"
      ]
     },
     "execution_count": 30,
     "metadata": {},
     "output_type": "execute_result"
    }
   ],
   "source": [
    "#Seting the Hyper Parameters\n",
    "param_grid = {\"max_depth\": [3,5, 7, 10,None],\n",
    "              \"n_estimators\":[3,5,10,25,50,150],\n",
    "              \"max_features\": [4,7,15,20]}\n",
    "\n",
    "#Creating the classifier\n",
    "model1 = RandomForestClassifier(random_state=2)\n",
    "\n",
    "grid_search = GridSearchCV(model1, param_grid=param_grid, cv=5, scoring='recall', verbose=4)\n",
    "grid_search.fit(X_train, y_train)"
   ]
  },
  {
   "cell_type": "code",
   "execution_count": 31,
   "metadata": {
    "_uuid": "420025da50cbf987174da6a4990032a9abc9f2ee",
    "colab": {
     "base_uri": "https://localhost:8080/"
    },
    "executionInfo": {
     "elapsed": 99,
     "status": "ok",
     "timestamp": 1650311254792,
     "user": {
      "displayName": "James Lee",
      "userId": "09893656045784390853"
     },
     "user_tz": 240
    },
    "id": "Sg5e-NzuIxYV",
    "outputId": "23d1c6ff-03d9-4e4b-a7cb-d71fa1e967fc"
   },
   "outputs": [
    {
     "name": "stdout",
     "output_type": "stream",
     "text": [
      "0.508792270531401\n",
      "{'max_depth': None, 'max_features': 20, 'n_estimators': 3}\n"
     ]
    }
   ],
   "source": [
    "print(grid_search.best_score_)\n",
    "print(grid_search.best_params_)"
   ]
  },
  {
   "cell_type": "code",
   "execution_count": 32,
   "metadata": {
    "_uuid": "ed2f94c143bd97a4ce0931c6fd82aff9ccc7d434",
    "colab": {
     "base_uri": "https://localhost:8080/"
    },
    "executionInfo": {
     "elapsed": 104,
     "status": "ok",
     "timestamp": 1650311258716,
     "user": {
      "displayName": "James Lee",
      "userId": "09893656045784390853"
     },
     "user_tz": 240
    },
    "id": "qPpgfmm2IxYV",
    "outputId": "9d35c0ac-64fa-4577-c591-194f541d375c"
   },
   "outputs": [
    {
     "data": {
      "text/plain": [
       "RandomForestClassifier(max_features=10, n_estimators=15, random_state=2)"
      ]
     },
     "execution_count": 32,
     "metadata": {},
     "output_type": "execute_result"
    }
   ],
   "source": [
    "rf = RandomForestClassifier(max_depth=None, max_features=10, n_estimators=15, random_state=2)\n",
    "\n",
    "#trainning with the best params\n",
    "rf.fit(X_train, y_train)"
   ]
  },
  {
   "cell_type": "code",
   "execution_count": 33,
   "metadata": {
    "_cell_guid": "df58e526-183d-4136-8bba-181cacd378ff",
    "_uuid": "1708146ad90c695224bff81d73e0a4b37808b3bb",
    "colab": {
     "base_uri": "https://localhost:8080/"
    },
    "executionInfo": {
     "elapsed": 114,
     "status": "ok",
     "timestamp": 1650311263455,
     "user": {
      "displayName": "James Lee",
      "userId": "09893656045784390853"
     },
     "user_tz": 240
    },
    "id": "76Y4sfaoIxYV",
    "outputId": "910e7d53-349d-4c55-de2c-293082f20426"
   },
   "outputs": [
    {
     "name": "stdout",
     "output_type": "stream",
     "text": [
      "0.736\n",
      "\n",
      "\n",
      "[[158  20]\n",
      " [ 46  26]]\n",
      "\n",
      "\n",
      "0.3892215568862275\n"
     ]
    }
   ],
   "source": [
    "#Testing the model \n",
    "#Predicting using our  model\n",
    "y_pred = rf.predict(X_test)\n",
    "\n",
    "# Verificaar os resultados obtidos\n",
    "print(accuracy_score(y_test,y_pred))\n",
    "print(\"\\n\")\n",
    "print(confusion_matrix(y_test, y_pred))\n",
    "print(\"\\n\")\n",
    "print(fbeta_score(y_test, y_pred, beta=2))\n"
   ]
  },
  {
   "cell_type": "markdown",
   "metadata": {
    "_cell_guid": "ad8f1404-7812-46a5-9f68-94647930b728",
    "_uuid": "fe7fc8bb6c6b392a62972132065d971468b85a3d",
    "id": "NPoJLloAIxYV"
   },
   "source": [
    "# **7.2 Model 2:** <a id=\"Modelling 2\"></a> <br>"
   ]
  },
  {
   "cell_type": "code",
   "execution_count": 16,
   "metadata": {
    "_cell_guid": "6e15774a-0b93-41ae-a395-6fde3c1ebd3a",
    "_uuid": "48c5b40e53ad8ed9e6fe5493802445996e597869",
    "executionInfo": {
     "elapsed": 108,
     "status": "ok",
     "timestamp": 1650311279500,
     "user": {
      "displayName": "James Lee",
      "userId": "09893656045784390853"
     },
     "user_tz": 240
    },
    "id": "1OUg5ZHqIxYW"
   },
   "outputs": [],
   "source": [
    "from sklearn.utils import resample\n",
    "from sklearn.metrics import roc_curve"
   ]
  },
  {
   "cell_type": "code",
   "execution_count": 17,
   "metadata": {
    "_cell_guid": "3c980a9e-7cac-4d5b-b0e6-2dde790bb5e4",
    "_uuid": "d2b3aded7d3373de62dbe57e4c1e1f86870a202c",
    "executionInfo": {
     "elapsed": 120,
     "status": "ok",
     "timestamp": 1650311280455,
     "user": {
      "displayName": "James Lee",
      "userId": "09893656045784390853"
     },
     "user_tz": 240
    },
    "id": "LT0v8zFGIxYW"
   },
   "outputs": [],
   "source": [
    "# Criando o classificador logreg\n",
    "GNB = GaussianNB()\n",
    "\n",
    "# Fitting with train data\n",
    "model = GNB.fit(X_train, y_train)"
   ]
  },
  {
   "cell_type": "code",
   "execution_count": 18,
   "metadata": {
    "_cell_guid": "797436e3-1d4b-4748-860d-efb282a1d0ce",
    "_uuid": "8cf623e40c3615367b5ed12bc8fdcb5b825ca58d",
    "colab": {
     "base_uri": "https://localhost:8080/"
    },
    "executionInfo": {
     "elapsed": 3,
     "status": "ok",
     "timestamp": 1650311282124,
     "user": {
      "displayName": "James Lee",
      "userId": "09893656045784390853"
     },
     "user_tz": 240
    },
    "id": "YepQ0u6TIxYW",
    "outputId": "ec20e2f6-4d7b-46b8-a12c-59b0cf4bf6cd"
   },
   "outputs": [
    {
     "name": "stdout",
     "output_type": "stream",
     "text": [
      "Training score data: \n",
      "0.7053333333333334\n"
     ]
    }
   ],
   "source": [
    "# Printing the Training Score\n",
    "print(\"Training score data: \")\n",
    "print(model.score(X_train, y_train))"
   ]
  },
  {
   "cell_type": "code",
   "execution_count": 34,
   "metadata": {
    "_cell_guid": "9649fb32-39e0-495a-8a7b-dd659bb24dc9",
    "_uuid": "cd3133deabdf47413f070365a4da6b5566e19e7f",
    "colab": {
     "base_uri": "https://localhost:8080/"
    },
    "executionInfo": {
     "elapsed": 88,
     "status": "ok",
     "timestamp": 1650311283172,
     "user": {
      "displayName": "James Lee",
      "userId": "09893656045784390853"
     },
     "user_tz": 240
    },
    "id": "Or370t1PIxYW",
    "outputId": "21310e81-53b2-4505-f192-e55b021c3319"
   },
   "outputs": [
    {
     "name": "stdout",
     "output_type": "stream",
     "text": [
      "0.648\n",
      "\n",
      "\n",
      "[[124  54]\n",
      " [ 34  38]]\n",
      "\n",
      "\n",
      "              precision    recall  f1-score   support\n",
      "\n",
      "           0       0.78      0.70      0.74       178\n",
      "           1       0.41      0.53      0.46        72\n",
      "\n",
      "    accuracy                           0.65       250\n",
      "   macro avg       0.60      0.61      0.60       250\n",
      "weighted avg       0.68      0.65      0.66       250\n",
      "\n",
      "\n",
      "\n",
      "0.6598782771535581\n"
     ]
    }
   ],
   "source": [
    "y_pred = model.predict(X_test)\n",
    "\n",
    "print(accuracy_score(y_test,y_pred))\n",
    "print(\"\\n\")\n",
    "print(confusion_matrix(y_test, y_pred))\n",
    "print(\"\\n\")\n",
    "print(classification_report(y_test, y_pred))\n",
    "print(\"\\n\")\n",
    "print(roc_auc_score(y_test, y_pred_prob))"
   ]
  },
  {
   "cell_type": "code",
   "execution_count": 35,
   "metadata": {},
   "outputs": [
    {
     "name": "stderr",
     "output_type": "stream",
     "text": [
      "C:\\Users\\yuhog\\Anaconda3\\envs\\CMU\\lib\\site-packages\\sklearn\\linear_model\\_logistic.py:814: ConvergenceWarning: lbfgs failed to converge (status=1):\n",
      "STOP: TOTAL NO. of ITERATIONS REACHED LIMIT.\n",
      "\n",
      "Increase the number of iterations (max_iter) or scale the data as shown in:\n",
      "    https://scikit-learn.org/stable/modules/preprocessing.html\n",
      "Please also refer to the documentation for alternative solver options:\n",
      "    https://scikit-learn.org/stable/modules/linear_model.html#logistic-regression\n",
      "  n_iter_i = _check_optimize_result(\n"
     ]
    }
   ],
   "source": [
    "y_pred = LogisticRegression(solver='lbfgs').fit(X_train, y_train).predict(X_test)\n",
    "# print('acc : ',accuracy_score(y_test, y_pred))\n",
    "# print('roc : ',roc_auc_score(y_test, y_pred_prob))\n"
   ]
  },
  {
   "cell_type": "code",
   "execution_count": 36,
   "metadata": {
    "_cell_guid": "8e3f97c0-7df5-4386-a248-5fffcc7dbc3b",
    "_uuid": "d5e668be55353b5129a63ebd524ed83e6a439de4",
    "colab": {
     "base_uri": "https://localhost:8080/",
     "height": 313
    },
    "executionInfo": {
     "elapsed": 509,
     "status": "ok",
     "timestamp": 1650311604246,
     "user": {
      "displayName": "James Lee",
      "userId": "09893656045784390853"
     },
     "user_tz": 240
    },
    "id": "qwrraYV3IxYW",
    "outputId": "bd202c90-d877-4844-efef-751fd1357caf"
   },
   "outputs": [
    {
     "name": "stdout",
     "output_type": "stream",
     "text": [
      "acc :  0.744\n",
      "0.6598782771535581\n"
     ]
    },
    {
     "data": {
      "image/png": "[encoded data removed]",
      "text/plain": [
       "<Figure size 432x288 with 1 Axes>"
      ]
     },
     "metadata": {
      "needs_background": "light"
     },
     "output_type": "display_data"
    }
   ],
   "source": [
    "from sklearn.metrics import roc_auc_score\n",
    "#Predicting proba\n",
    "y_pred_prob = model.predict_proba(X_test)[:,1]\n",
    "print('acc : ',accuracy_score(y_test, y_pred))\n",
    "print(roc_auc_score(y_test, y_pred_prob))\n",
    "# Generate ROC curve values: fpr, tpr, thresholds\n",
    "fpr, tpr, thresholds = roc_curve(y_test, y_pred_prob)\n",
    "\n",
    "# Plot ROC curve\n",
    "plt.plot([0, 1], [0, 1], 'k--')\n",
    "plt.plot(fpr, tpr)\n",
    "plt.xlabel('False Positive Rate')\n",
    "plt.ylabel('True Positive Rate')\n",
    "plt.title('ROC Curve')\n",
    "plt.show()"
   ]
  },
  {
   "cell_type": "code",
   "execution_count": 38,
   "metadata": {},
   "outputs": [
    {
     "data": {
      "text/plain": [
       "array([[24.        ,  1.        ,  7.3575562 , ...,  0.        ,\n",
       "         0.        ,  0.        ],\n",
       "       [34.        ,  1.        ,  7.35819375, ...,  1.        ,\n",
       "         0.        ,  0.        ],\n",
       "       [27.        ,  2.        ,  8.69918136, ...,  1.        ,\n",
       "         0.        ,  0.        ],\n",
       "       ...,\n",
       "       [27.        ,  2.        ,  8.66630261, ...,  1.        ,\n",
       "         0.        ,  0.        ],\n",
       "       [25.        ,  2.        ,  7.30249642, ...,  0.        ,\n",
       "         0.        ,  0.        ],\n",
       "       [24.        ,  2.        ,  6.83733281, ...,  0.        ,\n",
       "         0.        ,  0.        ]])"
      ]
     },
     "execution_count": 38,
     "metadata": {},
     "output_type": "execute_result"
    }
   ],
   "source": [
    "X_train"
   ]
  },
  {
   "cell_type": "code",
   "execution_count": 40,
   "metadata": {},
   "outputs": [
    {
     "data": {
      "text/plain": [
       "array([[67.        ,  2.        ,  7.06390396, ...,  0.        ,\n",
       "         0.        ,  1.        ],\n",
       "       [22.        ,  2.        ,  8.69131455, ...,  0.        ,\n",
       "         0.        ,  0.        ],\n",
       "       [49.        ,  1.        ,  7.64778605, ...,  0.        ,\n",
       "         1.        ,  0.        ],\n",
       "       ...,\n",
       "       [38.        ,  2.        ,  6.68959927, ...,  0.        ,\n",
       "         1.        ,  0.        ],\n",
       "       [23.        ,  2.        ,  7.52023456, ...,  0.        ,\n",
       "         0.        ,  0.        ],\n",
       "       [27.        ,  2.        ,  8.42858053, ...,  1.        ,\n",
       "         0.        ,  0.        ]])"
      ]
     },
     "execution_count": 40,
     "metadata": {},
     "output_type": "execute_result"
    }
   ],
   "source": [
    "df[]"
   ]
  },
  {
   "cell_type": "code",
   "execution_count": 72,
   "metadata": {},
   "outputs": [
    {
     "name": "stderr",
     "output_type": "stream",
     "text": [
      "C:\\Users\\yuhog\\AppData\\Local\\Temp/ipykernel_16848/35771894.py:1: FutureWarning: In a future version of pandas all arguments of DataFrame.drop except for the argument 'labels' will be keyword-only.\n",
      "  df_credit.drop('Risk_bad', 1)['Sex']\n"
     ]
    },
    {
     "ename": "KeyError",
     "evalue": "'Sex'",
     "output_type": "error",
     "traceback": [
      "\u001b[1;31m---------------------------------------------------------------------------\u001b[0m",
      "\u001b[1;31mKeyError\u001b[0m                                  Traceback (most recent call last)",
      "\u001b[1;32m~\\Anaconda3\\envs\\CMU\\lib\\site-packages\\pandas\\core\\indexes\\base.py\u001b[0m in \u001b[0;36mget_loc\u001b[1;34m(self, key, method, tolerance)\u001b[0m\n\u001b[0;32m   3620\u001b[0m             \u001b[1;32mtry\u001b[0m\u001b[1;33m:\u001b[0m\u001b[1;33m\u001b[0m\u001b[1;33m\u001b[0m\u001b[0m\n\u001b[1;32m-> 3621\u001b[1;33m                 \u001b[1;32mreturn\u001b[0m \u001b[0mself\u001b[0m\u001b[1;33m.\u001b[0m\u001b[0m_engine\u001b[0m\u001b[1;33m.\u001b[0m\u001b[0mget_loc\u001b[0m\u001b[1;33m(\u001b[0m\u001b[0mcasted_key\u001b[0m\u001b[1;33m)\u001b[0m\u001b[1;33m\u001b[0m\u001b[1;33m\u001b[0m\u001b[0m\n\u001b[0m\u001b[0;32m   3622\u001b[0m             \u001b[1;32mexcept\u001b[0m \u001b[0mKeyError\u001b[0m \u001b[1;32mas\u001b[0m \u001b[0merr\u001b[0m\u001b[1;33m:\u001b[0m\u001b[1;33m\u001b[0m\u001b[1;33m\u001b[0m\u001b[0m\n",
      "\u001b[1;32m~\\Anaconda3\\envs\\CMU\\lib\\site-packages\\pandas\\_libs\\index.pyx\u001b[0m in \u001b[0;36mpandas._libs.index.IndexEngine.get_loc\u001b[1;34m()\u001b[0m\n",
      "\u001b[1;32m~\\Anaconda3\\envs\\CMU\\lib\\site-packages\\pandas\\_libs\\index.pyx\u001b[0m in \u001b[0;36mpandas._libs.index.IndexEngine.get_loc\u001b[1;34m()\u001b[0m\n",
      "\u001b[1;32mpandas\\_libs\\hashtable_class_helper.pxi\u001b[0m in \u001b[0;36mpandas._libs.hashtable.PyObjectHashTable.get_item\u001b[1;34m()\u001b[0m\n",
      "\u001b[1;32mpandas\\_libs\\hashtable_class_helper.pxi\u001b[0m in \u001b[0;36mpandas._libs.hashtable.PyObjectHashTable.get_item\u001b[1;34m()\u001b[0m\n",
      "\u001b[1;31mKeyError\u001b[0m: 'Sex'",
      "\nThe above exception was the direct cause of the following exception:\n",
      "\u001b[1;31mKeyError\u001b[0m                                  Traceback (most recent call last)",
      "\u001b[1;32m~\\AppData\\Local\\Temp/ipykernel_16848/35771894.py\u001b[0m in \u001b[0;36m<module>\u001b[1;34m\u001b[0m\n\u001b[1;32m----> 1\u001b[1;33m \u001b[0mdf_credit\u001b[0m\u001b[1;33m.\u001b[0m\u001b[0mdrop\u001b[0m\u001b[1;33m(\u001b[0m\u001b[1;34m'Risk_bad'\u001b[0m\u001b[1;33m,\u001b[0m \u001b[1;36m1\u001b[0m\u001b[1;33m)\u001b[0m\u001b[1;33m[\u001b[0m\u001b[1;34m'Sex'\u001b[0m\u001b[1;33m]\u001b[0m\u001b[1;33m\u001b[0m\u001b[1;33m\u001b[0m\u001b[0m\n\u001b[0m",
      "\u001b[1;32m~\\Anaconda3\\envs\\CMU\\lib\\site-packages\\pandas\\core\\frame.py\u001b[0m in \u001b[0;36m__getitem__\u001b[1;34m(self, key)\u001b[0m\n\u001b[0;32m   3504\u001b[0m             \u001b[1;32mif\u001b[0m \u001b[0mself\u001b[0m\u001b[1;33m.\u001b[0m\u001b[0mcolumns\u001b[0m\u001b[1;33m.\u001b[0m\u001b[0mnlevels\u001b[0m \u001b[1;33m>\u001b[0m \u001b[1;36m1\u001b[0m\u001b[1;33m:\u001b[0m\u001b[1;33m\u001b[0m\u001b[1;33m\u001b[0m\u001b[0m\n\u001b[0;32m   3505\u001b[0m                 \u001b[1;32mreturn\u001b[0m \u001b[0mself\u001b[0m\u001b[1;33m.\u001b[0m\u001b[0m_getitem_multilevel\u001b[0m\u001b[1;33m(\u001b[0m\u001b[0mkey\u001b[0m\u001b[1;33m)\u001b[0m\u001b[1;33m\u001b[0m\u001b[1;33m\u001b[0m\u001b[0m\n\u001b[1;32m-> 3506\u001b[1;33m             \u001b[0mindexer\u001b[0m \u001b[1;33m=\u001b[0m \u001b[0mself\u001b[0m\u001b[1;33m.\u001b[0m\u001b[0mcolumns\u001b[0m\u001b[1;33m.\u001b[0m\u001b[0mget_loc\u001b[0m\u001b[1;33m(\u001b[0m\u001b[0mkey\u001b[0m\u001b[1;33m)\u001b[0m\u001b[1;33m\u001b[0m\u001b[1;33m\u001b[0m\u001b[0m\n\u001b[0m\u001b[0;32m   3507\u001b[0m             \u001b[1;32mif\u001b[0m \u001b[0mis_integer\u001b[0m\u001b[1;33m(\u001b[0m\u001b[0mindexer\u001b[0m\u001b[1;33m)\u001b[0m\u001b[1;33m:\u001b[0m\u001b[1;33m\u001b[0m\u001b[1;33m\u001b[0m\u001b[0m\n\u001b[0;32m   3508\u001b[0m                 \u001b[0mindexer\u001b[0m \u001b[1;33m=\u001b[0m \u001b[1;33m[\u001b[0m\u001b[0mindexer\u001b[0m\u001b[1;33m]\u001b[0m\u001b[1;33m\u001b[0m\u001b[1;33m\u001b[0m\u001b[0m\n",
      "\u001b[1;32m~\\Anaconda3\\envs\\CMU\\lib\\site-packages\\pandas\\core\\indexes\\base.py\u001b[0m in \u001b[0;36mget_loc\u001b[1;34m(self, key, method, tolerance)\u001b[0m\n\u001b[0;32m   3621\u001b[0m                 \u001b[1;32mreturn\u001b[0m \u001b[0mself\u001b[0m\u001b[1;33m.\u001b[0m\u001b[0m_engine\u001b[0m\u001b[1;33m.\u001b[0m\u001b[0mget_loc\u001b[0m\u001b[1;33m(\u001b[0m\u001b[0mcasted_key\u001b[0m\u001b[1;33m)\u001b[0m\u001b[1;33m\u001b[0m\u001b[1;33m\u001b[0m\u001b[0m\n\u001b[0;32m   3622\u001b[0m             \u001b[1;32mexcept\u001b[0m \u001b[0mKeyError\u001b[0m \u001b[1;32mas\u001b[0m \u001b[0merr\u001b[0m\u001b[1;33m:\u001b[0m\u001b[1;33m\u001b[0m\u001b[1;33m\u001b[0m\u001b[0m\n\u001b[1;32m-> 3623\u001b[1;33m                 \u001b[1;32mraise\u001b[0m \u001b[0mKeyError\u001b[0m\u001b[1;33m(\u001b[0m\u001b[0mkey\u001b[0m\u001b[1;33m)\u001b[0m \u001b[1;32mfrom\u001b[0m \u001b[0merr\u001b[0m\u001b[1;33m\u001b[0m\u001b[1;33m\u001b[0m\u001b[0m\n\u001b[0m\u001b[0;32m   3624\u001b[0m             \u001b[1;32mexcept\u001b[0m \u001b[0mTypeError\u001b[0m\u001b[1;33m:\u001b[0m\u001b[1;33m\u001b[0m\u001b[1;33m\u001b[0m\u001b[0m\n\u001b[0;32m   3625\u001b[0m                 \u001b[1;31m# If we have a listlike key, _check_indexing_error will raise\u001b[0m\u001b[1;33m\u001b[0m\u001b[1;33m\u001b[0m\u001b[0m\n",
      "\u001b[1;31mKeyError\u001b[0m: 'Sex'"
     ]
    }
   ],
   "source": [
    "df_credit.drop('Risk_bad', 1)['Sex']"
   ]
  },
  {
   "cell_type": "code",
   "execution_count": null,
   "metadata": {},
   "outputs": [],
   "source": []
  }
 ],
 "metadata": {
  "colab": {
   "name": "predicting-credit-risk-model-pipeline.ipynb",
   "provenance": []
  },
  "kernelspec": {
   "display_name": "Python 3 (ipykernel)",
   "language": "python",
   "name": "python3"
  },
  "language_info": {
   "codemirror_mode": {
    "name": "ipython",
    "version": 3
   },
   "file_extension": ".py",
   "mimetype": "text/x-python",
   "name": "python",
   "nbconvert_exporter": "python",
   "pygments_lexer": "ipython3",
   "version": "3.9.7"
  }
 },
 "nbformat": 4,
 "nbformat_minor": 1
}
